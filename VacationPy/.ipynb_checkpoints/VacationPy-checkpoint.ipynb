{
 "cells": [
  {
   "cell_type": "markdown",
   "metadata": {},
   "source": [
    "# VacationPy\n",
    "----\n",
    "\n",
    "#### Note\n",
    "* Keep an eye on your API usage. Use https://developers.google.com/maps/reporting/gmp-reporting as reference for how to monitor your usage and billing.\n",
    "\n",
    "* Instructions have been included for each segment. You do not have to follow them exactly, but they are included to help you think through the steps."
   ]
  },
  {
   "cell_type": "code",
   "execution_count": 9,
   "metadata": {},
   "outputs": [],
   "source": [
    "# Dependencies and Setup\n",
    "import matplotlib.pyplot as plt\n",
    "import pandas as pd\n",
    "import numpy as np\n",
    "import requests\n",
    "import gmaps\n",
    "import os\n",
    "\n",
    "# Import API key\n",
    "from api_keys import g_key\n",
    "\n",
    "gmaps.configure(api_key=g_key)"
   ]
  },
  {
   "cell_type": "markdown",
   "metadata": {},
   "source": [
    "### Store Part I results into DataFrame\n",
    "* Load the csv exported in Part I to a DataFrame"
   ]
  },
  {
   "cell_type": "code",
   "execution_count": 10,
   "metadata": {},
   "outputs": [
    {
     "data": {
      "text/html": [
       "<div>\n",
       "<style scoped>\n",
       "    .dataframe tbody tr th:only-of-type {\n",
       "        vertical-align: middle;\n",
       "    }\n",
       "\n",
       "    .dataframe tbody tr th {\n",
       "        vertical-align: top;\n",
       "    }\n",
       "\n",
       "    .dataframe thead th {\n",
       "        text-align: right;\n",
       "    }\n",
       "</style>\n",
       "<table border=\"1\" class=\"dataframe\">\n",
       "  <thead>\n",
       "    <tr style=\"text-align: right;\">\n",
       "      <th></th>\n",
       "      <th>Unnamed: 0</th>\n",
       "      <th>City</th>\n",
       "      <th>Lat</th>\n",
       "      <th>Lng</th>\n",
       "      <th>Max Temp</th>\n",
       "      <th>Humidity</th>\n",
       "      <th>Cloudiness</th>\n",
       "      <th>WindSpeed</th>\n",
       "      <th>Country</th>\n",
       "      <th>Date</th>\n",
       "    </tr>\n",
       "  </thead>\n",
       "  <tbody>\n",
       "    <tr>\n",
       "      <th>0</th>\n",
       "      <td>0</td>\n",
       "      <td>east london</td>\n",
       "      <td>-33.0153</td>\n",
       "      <td>27.9116</td>\n",
       "      <td>63.97</td>\n",
       "      <td>83</td>\n",
       "      <td>35</td>\n",
       "      <td>14.03</td>\n",
       "      <td>ZA</td>\n",
       "      <td>1634764847</td>\n",
       "    </tr>\n",
       "    <tr>\n",
       "      <th>1</th>\n",
       "      <td>1</td>\n",
       "      <td>nikolskoye</td>\n",
       "      <td>59.7035</td>\n",
       "      <td>30.7861</td>\n",
       "      <td>50.88</td>\n",
       "      <td>92</td>\n",
       "      <td>100</td>\n",
       "      <td>15.97</td>\n",
       "      <td>RU</td>\n",
       "      <td>1634764847</td>\n",
       "    </tr>\n",
       "    <tr>\n",
       "      <th>2</th>\n",
       "      <td>2</td>\n",
       "      <td>kapaa</td>\n",
       "      <td>22.0752</td>\n",
       "      <td>-159.3190</td>\n",
       "      <td>81.48</td>\n",
       "      <td>68</td>\n",
       "      <td>20</td>\n",
       "      <td>3.00</td>\n",
       "      <td>US</td>\n",
       "      <td>1634764848</td>\n",
       "    </tr>\n",
       "    <tr>\n",
       "      <th>3</th>\n",
       "      <td>3</td>\n",
       "      <td>mataura</td>\n",
       "      <td>-46.1927</td>\n",
       "      <td>168.8643</td>\n",
       "      <td>47.32</td>\n",
       "      <td>63</td>\n",
       "      <td>100</td>\n",
       "      <td>1.88</td>\n",
       "      <td>NZ</td>\n",
       "      <td>1634764848</td>\n",
       "    </tr>\n",
       "    <tr>\n",
       "      <th>4</th>\n",
       "      <td>4</td>\n",
       "      <td>busselton</td>\n",
       "      <td>-33.6500</td>\n",
       "      <td>115.3333</td>\n",
       "      <td>53.10</td>\n",
       "      <td>76</td>\n",
       "      <td>99</td>\n",
       "      <td>16.13</td>\n",
       "      <td>AU</td>\n",
       "      <td>1634764791</td>\n",
       "    </tr>\n",
       "    <tr>\n",
       "      <th>5</th>\n",
       "      <td>5</td>\n",
       "      <td>miranda</td>\n",
       "      <td>3.2499</td>\n",
       "      <td>-76.2281</td>\n",
       "      <td>77.13</td>\n",
       "      <td>75</td>\n",
       "      <td>89</td>\n",
       "      <td>2.19</td>\n",
       "      <td>CO</td>\n",
       "      <td>1634764848</td>\n",
       "    </tr>\n",
       "    <tr>\n",
       "      <th>6</th>\n",
       "      <td>6</td>\n",
       "      <td>sinnamary</td>\n",
       "      <td>5.3833</td>\n",
       "      <td>-52.9500</td>\n",
       "      <td>81.30</td>\n",
       "      <td>78</td>\n",
       "      <td>37</td>\n",
       "      <td>9.17</td>\n",
       "      <td>GF</td>\n",
       "      <td>1634764849</td>\n",
       "    </tr>\n",
       "    <tr>\n",
       "      <th>7</th>\n",
       "      <td>7</td>\n",
       "      <td>san julian</td>\n",
       "      <td>21.0167</td>\n",
       "      <td>-102.1667</td>\n",
       "      <td>79.20</td>\n",
       "      <td>37</td>\n",
       "      <td>1</td>\n",
       "      <td>2.82</td>\n",
       "      <td>MX</td>\n",
       "      <td>1634764849</td>\n",
       "    </tr>\n",
       "    <tr>\n",
       "      <th>8</th>\n",
       "      <td>8</td>\n",
       "      <td>vostok</td>\n",
       "      <td>46.4856</td>\n",
       "      <td>135.8833</td>\n",
       "      <td>14.50</td>\n",
       "      <td>84</td>\n",
       "      <td>6</td>\n",
       "      <td>3.69</td>\n",
       "      <td>RU</td>\n",
       "      <td>1634764849</td>\n",
       "    </tr>\n",
       "  </tbody>\n",
       "</table>\n",
       "</div>"
      ],
      "text/plain": [
       "   Unnamed: 0         City      Lat       Lng  Max Temp  Humidity  Cloudiness  \\\n",
       "0           0  east london -33.0153   27.9116     63.97        83          35   \n",
       "1           1   nikolskoye  59.7035   30.7861     50.88        92         100   \n",
       "2           2        kapaa  22.0752 -159.3190     81.48        68          20   \n",
       "3           3      mataura -46.1927  168.8643     47.32        63         100   \n",
       "4           4    busselton -33.6500  115.3333     53.10        76          99   \n",
       "5           5      miranda   3.2499  -76.2281     77.13        75          89   \n",
       "6           6    sinnamary   5.3833  -52.9500     81.30        78          37   \n",
       "7           7   san julian  21.0167 -102.1667     79.20        37           1   \n",
       "8           8       vostok  46.4856  135.8833     14.50        84           6   \n",
       "\n",
       "   WindSpeed Country        Date  \n",
       "0      14.03      ZA  1634764847  \n",
       "1      15.97      RU  1634764847  \n",
       "2       3.00      US  1634764848  \n",
       "3       1.88      NZ  1634764848  \n",
       "4      16.13      AU  1634764791  \n",
       "5       2.19      CO  1634764848  \n",
       "6       9.17      GF  1634764849  \n",
       "7       2.82      MX  1634764849  \n",
       "8       3.69      RU  1634764849  "
      ]
     },
     "execution_count": 10,
     "metadata": {},
     "output_type": "execute_result"
    }
   ],
   "source": [
    "\n",
    "vacation_df=pd.read_csv(\"../WeatherPy/Output/weather_data.csv\")\n",
    "vacation_df"
   ]
  },
  {
   "cell_type": "markdown",
   "metadata": {},
   "source": [
    "### Humidity Heatmap\n",
    "* Configure gmaps.\n",
    "* Use the Lat and Lng as locations and Humidity as the weight.\n",
    "* Add Heatmap layer to map."
   ]
  },
  {
   "cell_type": "code",
   "execution_count": 11,
   "metadata": {},
   "outputs": [
    {
     "data": {
      "application/vnd.jupyter.widget-view+json": {
       "model_id": "c98d6fbbdca3403abf96c9189a5c1106",
       "version_major": 2,
       "version_minor": 0
      },
      "text/plain": [
       "Figure(layout=FigureLayout(height='420px'))"
      ]
     },
     "metadata": {},
     "output_type": "display_data"
    }
   ],
   "source": [
    "# Use the Lat and Lng as locations and Humidity as the weight.\n",
    "locations = vacation_df[[\"Lat\", \"Lng\"]].astype(float)\n",
    "\n",
    "\n",
    "vacation_df = vacation_df.dropna()\n",
    "humid_rate = vacation_df[\"Humidity\"].astype(float)\n",
    "\n",
    "\n",
    "# Add Heatmap layer to map\n",
    "fig = gmaps.figure()\n",
    "\n",
    "heat_layer = gmaps.heatmap_layer(locations, weights=humid_rate, \n",
    "                                 dissipating=False, max_intensity=100,\n",
    "                                 point_radius = 1)\n",
    "\n",
    "fig.add_layer(heat_layer)\n",
    "\n",
    "fig"
   ]
  },
  {
   "cell_type": "code",
   "execution_count": null,
   "metadata": {},
   "outputs": [],
   "source": []
  },
  {
   "cell_type": "markdown",
   "metadata": {},
   "source": [
    "### Create new DataFrame fitting weather criteria\n",
    "* Narrow down the cities to fit weather conditions.\n",
    "* Drop any rows will null values."
   ]
  },
  {
   "cell_type": "code",
   "execution_count": 18,
   "metadata": {},
   "outputs": [
    {
     "data": {
      "text/html": [
       "<div>\n",
       "<style scoped>\n",
       "    .dataframe tbody tr th:only-of-type {\n",
       "        vertical-align: middle;\n",
       "    }\n",
       "\n",
       "    .dataframe tbody tr th {\n",
       "        vertical-align: top;\n",
       "    }\n",
       "\n",
       "    .dataframe thead th {\n",
       "        text-align: right;\n",
       "    }\n",
       "</style>\n",
       "<table border=\"1\" class=\"dataframe\">\n",
       "  <thead>\n",
       "    <tr style=\"text-align: right;\">\n",
       "      <th></th>\n",
       "      <th>Unnamed: 0</th>\n",
       "      <th>City</th>\n",
       "      <th>Lat</th>\n",
       "      <th>Lng</th>\n",
       "      <th>Max Temp</th>\n",
       "      <th>Humidity</th>\n",
       "      <th>Cloudiness</th>\n",
       "      <th>WindSpeed</th>\n",
       "      <th>Country</th>\n",
       "      <th>Date</th>\n",
       "    </tr>\n",
       "  </thead>\n",
       "  <tbody>\n",
       "  </tbody>\n",
       "</table>\n",
       "</div>"
      ],
      "text/plain": [
       "Empty DataFrame\n",
       "Columns: [Unnamed: 0, City, Lat, Lng, Max Temp, Humidity, Cloudiness, WindSpeed, Country, Date]\n",
       "Index: []"
      ]
     },
     "execution_count": 18,
     "metadata": {},
     "output_type": "execute_result"
    }
   ],
   "source": [
    "# Narrow down the DataFrame to find your ideal weather condition. For example:\n",
    "# A max temperature lower than 80 degrees but higher than 70.\n",
    "# Wind speed less than 10 mph.\n",
    "# Zero cloudiness.\n",
    "# Drop any rows that don't contain all three conditions. You want to be \n",
    "# sure the weather is ideal.\n",
    "# Note: Feel free to adjust to your specifications but be sure to limit \n",
    "#     the number of rows returned by your API requests to a reasonable number.\n",
    "\n",
    "new_vacation_df=vacation_df.copy()\n",
    "#ideal condition\n",
    "# vacation_df.loc[((vacation_df[\"Max Temp\"] < 80) &  (vacation_df[\"Max Temp\"] > 70)) \n",
    "#                 & (vacation_df[\"WindSpeed\"] < 10) & (vacation_df[\"Cloudiness\"] = 0)]\n",
    "\n",
    "#Notideal\n",
    "\n",
    "# new_vacation_df.loc[((new_vacation_df[\"Max Temp\"] >= 80) &  (new_vacation_df[\"Max Temp\"] <= 70)) \n",
    "#                 & (new_vacation_df[\"WindSpeed\"] >=10) & (new_vacation_df[\"Cloudiness\"] != 0)]\n",
    "\n",
    "# &  (new_vacation_df[\"Max Temp\"] <= 70))\n",
    "new_vacation_df.drop(new_vacation_df[((new_vacation_df[\"Max Temp\"] >= 80))].index,inplace=True)\n",
    "\n",
    "new_vacation_df.drop(new_vacation_df[((new_vacation_df[\"Max Temp\"] <= 70))].index,inplace=True)\n",
    "\n",
    "new_vacation_df.drop(new_vacation_df[((new_vacation_df[\"WindSpeed\"] >= 10))].index,inplace=True)\n",
    "\n",
    "new_vacation_df.drop(new_vacation_df[((new_vacation_df[\"Cloudiness\"] != 0))].index,inplace=True)\n",
    "new_vacation_df"
   ]
  },
  {
   "cell_type": "markdown",
   "metadata": {},
   "source": [
    "### Hotel Map\n",
    "* Store into variable named `hotel_df`.\n",
    "* Add a \"Hotel Name\" column to the DataFrame.\n",
    "* Set parameters to search for hotels with 5000 meters.\n",
    "* Hit the Google Places API for each city's coordinates.\n",
    "* Store the first Hotel result into the DataFrame.\n",
    "* Plot markers on top of the heatmap."
   ]
  },
  {
   "cell_type": "code",
   "execution_count": 19,
   "metadata": {},
   "outputs": [
    {
     "data": {
      "text/html": [
       "<div>\n",
       "<style scoped>\n",
       "    .dataframe tbody tr th:only-of-type {\n",
       "        vertical-align: middle;\n",
       "    }\n",
       "\n",
       "    .dataframe tbody tr th {\n",
       "        vertical-align: top;\n",
       "    }\n",
       "\n",
       "    .dataframe thead th {\n",
       "        text-align: right;\n",
       "    }\n",
       "</style>\n",
       "<table border=\"1\" class=\"dataframe\">\n",
       "  <thead>\n",
       "    <tr style=\"text-align: right;\">\n",
       "      <th></th>\n",
       "      <th>Unnamed: 0</th>\n",
       "      <th>City</th>\n",
       "      <th>Lat</th>\n",
       "      <th>Lng</th>\n",
       "      <th>Max Temp</th>\n",
       "      <th>Humidity</th>\n",
       "      <th>Cloudiness</th>\n",
       "      <th>WindSpeed</th>\n",
       "      <th>Country</th>\n",
       "      <th>Date</th>\n",
       "      <th>Hotel Name</th>\n",
       "    </tr>\n",
       "  </thead>\n",
       "  <tbody>\n",
       "  </tbody>\n",
       "</table>\n",
       "</div>"
      ],
      "text/plain": [
       "Empty DataFrame\n",
       "Columns: [Unnamed: 0, City, Lat, Lng, Max Temp, Humidity, Cloudiness, WindSpeed, Country, Date, Hotel Name]\n",
       "Index: []"
      ]
     },
     "execution_count": 19,
     "metadata": {},
     "output_type": "execute_result"
    }
   ],
   "source": [
    "hotelslist=[]\n",
    "for i in range(len(new_vacation_df)):\n",
    "    lat = new_vacation_df.loc[i][\"Lat\"]\n",
    "    lng = new_vacation_df.loc[i][\"Lng\"]\n",
    "    \n",
    "    params={\n",
    "        \"location\":f\"{lat},{lng}\",\n",
    "        \"radius\": 5000,\n",
    "        \"types\":\"hotel\",\n",
    "        \"key\":g_key\n",
    "    }\n",
    "    \n",
    "    base_url = \"https://maps.googleapis.com/maps/api/place/nearbysearch/json\"\n",
    "    resp=requests.get(base_url,params=params)\n",
    "    resp_json=resp.json()\n",
    "    try:\n",
    "        hotelslist.append(resp_json[\"results\"][0]['name'])\n",
    "    except:\n",
    "        hotelslist.append(\"\")\n",
    "new_vacation_df[\"Hotel Name\"]=hotelslist\n",
    "new_vacation_df.head()\n",
    "\n",
    "        "
   ]
  },
  {
   "cell_type": "code",
   "execution_count": null,
   "metadata": {},
   "outputs": [],
   "source": []
  },
  {
   "cell_type": "code",
   "execution_count": null,
   "metadata": {},
   "outputs": [],
   "source": [
    "# NOTE: Do not change any of the code in this cell\n",
    "\n",
    "# Using the template add the hotel marks to the heatmap\n",
    "info_box_template = \"\"\"\n",
    "<dl>\n",
    "<dt>Name</dt><dd>{Hotel Name}</dd>\n",
    "<dt>City</dt><dd>{City}</dd>\n",
    "<dt>Country</dt><dd>{Country}</dd>\n",
    "</dl>\n",
    "\"\"\"\n",
    "# Store the DataFrame Row\n",
    "# NOTE: be sure to update with your DataFrame name\n",
    "hotel_info = [info_box_template.format(**row) for index, row in new_vacation_df.iterrows()]\n",
    "locations = new_vacation_df[[\"Lat\", \"Lng\"]]"
   ]
  },
  {
   "cell_type": "code",
   "execution_count": 20,
   "metadata": {},
   "outputs": [
    {
     "data": {
      "application/vnd.jupyter.widget-view+json": {
       "model_id": "c98d6fbbdca3403abf96c9189a5c1106",
       "version_major": 2,
       "version_minor": 0
      },
      "text/plain": [
       "Figure(layout=FigureLayout(height='420px'))"
      ]
     },
     "metadata": {},
     "output_type": "display_data"
    }
   ],
   "source": [
    "# Add marker layer ontop of heat map\n",
    "markers=gmaps.marker_layer(locations)\n",
    "fig.add_layer(markers)\n",
    "fig\n",
    "\n",
    "# Display figure\n"
   ]
  },
  {
   "cell_type": "code",
   "execution_count": null,
   "metadata": {},
   "outputs": [],
   "source": []
  }
 ],
 "metadata": {
  "kernelspec": {
   "display_name": "Python 3",
   "language": "python",
   "name": "python3"
  },
  "language_info": {
   "codemirror_mode": {
    "name": "ipython",
    "version": 3
   },
   "file_extension": ".py",
   "mimetype": "text/x-python",
   "name": "python",
   "nbconvert_exporter": "python",
   "pygments_lexer": "ipython3",
   "version": "3.8.8"
  },
  "latex_envs": {
   "LaTeX_envs_menu_present": true,
   "autoclose": false,
   "autocomplete": true,
   "bibliofile": "biblio.bib",
   "cite_by": "apalike",
   "current_citInitial": 1,
   "eqLabelWithNumbers": true,
   "eqNumInitial": 1,
   "hotkeys": {
    "equation": "Ctrl-E",
    "itemize": "Ctrl-I"
   },
   "labels_anchors": false,
   "latex_user_defs": false,
   "report_style_numbering": false,
   "user_envs_cfg": false
  }
 },
 "nbformat": 4,
 "nbformat_minor": 4
}
