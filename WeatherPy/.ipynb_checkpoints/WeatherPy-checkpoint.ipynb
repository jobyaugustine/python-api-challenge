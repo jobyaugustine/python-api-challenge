{
 "cells": [
  {
   "cell_type": "markdown",
   "metadata": {},
   "source": [
    "# WeatherPy\n",
    "----\n",
    "\n",
    "#### Note\n",
    "* Instructions have been included for each segment. You do not have to follow them exactly, but they are included to help you think through the steps."
   ]
  },
  {
   "cell_type": "code",
   "execution_count": 173,
   "metadata": {
    "scrolled": true
   },
   "outputs": [],
   "source": [
    "# Dependencies and Setup\n",
    "import matplotlib.pyplot as plt\n",
    "import pandas as pd\n",
    "import numpy as np\n",
    "import requests\n",
    "import time\n",
    "from scipy import stats \n",
    "#import linregress\n",
    "import json\n",
    "# Import API key\n",
    "from api_keys import weather_api_key\n",
    "#from \"../api_keys\" import weather_api_key\n",
    "\n",
    "from api_keys import g_key\n",
    "\n",
    "\n",
    "# Incorporated citipy to determine city based on latitude and longitude\n",
    "from citipy import citipy\n",
    "\n",
    "# Output File (CSV)\n",
    "output_data_file = \"Output/weather_data.csv\"\n",
    "\n",
    "# Range of latitudes and longitudes\n",
    "lat_range = (-90, 90)\n",
    "lng_range = (-180, 180)"
   ]
  },
  {
   "cell_type": "markdown",
   "metadata": {},
   "source": [
    "## Generate Cities List"
   ]
  },
  {
   "cell_type": "code",
   "execution_count": 174,
   "metadata": {},
   "outputs": [
    {
     "data": {
      "text/plain": [
       "9"
      ]
     },
     "execution_count": 174,
     "metadata": {},
     "output_type": "execute_result"
    }
   ],
   "source": [
    "# List for holding lat_lngs and cities\n",
    "lat_lngs = []\n",
    "cities = []\n",
    "\n",
    "# Create a set of random lat and lng combinations\n",
    "lats = np.random.uniform(lat_range[0], lat_range[1], size=10) #1500\n",
    "lngs = np.random.uniform(lng_range[0], lng_range[1], size=10) #1500\n",
    "lat_lngs = zip(lats, lngs)\n",
    "\n",
    "# Identify nearest city for each lat, lng combination\n",
    "for lat_lng in lat_lngs:\n",
    "    city = citipy.nearest_city(lat_lng[0], lat_lng[1]).city_name\n",
    "    \n",
    "    # If the city is unique, then add it to a our cities list\n",
    "    if city not in cities:\n",
    "        cities.append(city)\n",
    "\n",
    "# Print the city count to confirm sufficient count\n",
    "len(cities)\n",
    "#print(cities[0])"
   ]
  },
  {
   "cell_type": "markdown",
   "metadata": {},
   "source": [
    "### Perform API Calls\n",
    "* Perform a weather check on each city using a series of successive API calls.\n",
    "* Include a print log of each city as it'sbeing processed (with the city number and city name).\n"
   ]
  },
  {
   "cell_type": "code",
   "execution_count": 175,
   "metadata": {
    "scrolled": true
   },
   "outputs": [
    {
     "name": "stdout",
     "output_type": "stream",
     "text": [
      "Processing Record  1 of Set 1 | {'coord': {'lon': 27.9116, 'lat': -33.0153}, 'weather': [{'id': 802, 'main': 'Clouds', 'description': 'scattered clouds', 'icon': '03n'}], 'base': 'stations', 'main': {'temp': 63.97, 'feels_like': 63.97, 'temp_min': 63.97, 'temp_max': 63.97, 'pressure': 1017, 'humidity': 83, 'sea_level': 1017, 'grnd_level': 1011}, 'visibility': 10000, 'wind': {'speed': 14.03, 'deg': 41, 'gust': 23.53}, 'clouds': {'all': 35}, 'dt': 1634764847, 'sys': {'country': 'ZA', 'sunrise': 1634700094, 'sunset': 1634747063}, 'timezone': 7200, 'id': 1006984, 'name': 'East London', 'cod': 200}\n",
      "Processing Record  2 of Set 1 | {'coord': {'lon': 30.7861, 'lat': 59.7035}, 'weather': [{'id': 500, 'main': 'Rain', 'description': 'light rain', 'icon': '10n'}], 'base': 'stations', 'main': {'temp': 50.22, 'feels_like': 49.26, 'temp_min': 49.39, 'temp_max': 50.88, 'pressure': 982, 'humidity': 92, 'sea_level': 982, 'grnd_level': 978}, 'visibility': 10000, 'wind': {'speed': 15.97, 'deg': 218, 'gust': 41.45}, 'rain': {'1h': 0.56}, 'clouds': {'all': 100}, 'dt': 1634764847, 'sys': {'type': 2, 'id': 2034996, 'country': 'RU', 'sunrise': 1634791800, 'sunset': 1634826758}, 'timezone': 10800, 'id': 546105, 'name': 'Nikolskoye', 'cod': 200}\n",
      "Processing Record  3 of Set 1 | {'coord': {'lon': -159.319, 'lat': 22.0752}, 'weather': [{'id': 801, 'main': 'Clouds', 'description': 'few clouds', 'icon': '02d'}], 'base': 'stations', 'main': {'temp': 80.64, 'feels_like': 83.7, 'temp_min': 79.12, 'temp_max': 81.48, 'pressure': 1020, 'humidity': 68}, 'visibility': 10000, 'wind': {'speed': 3, 'deg': 103, 'gust': 10}, 'clouds': {'all': 20}, 'dt': 1634764848, 'sys': {'type': 2, 'id': 2039329, 'country': 'US', 'sunrise': 1634747731, 'sunset': 1634789287}, 'timezone': -36000, 'id': 5848280, 'name': 'Kapaa', 'cod': 200}\n",
      "Processing Record  4 of Set 1 | {'coord': {'lon': 168.8643, 'lat': -46.1927}, 'weather': [{'id': 804, 'main': 'Clouds', 'description': 'overcast clouds', 'icon': '04d'}], 'base': 'stations', 'main': {'temp': 47.32, 'feels_like': 47.32, 'temp_min': 47.32, 'temp_max': 47.32, 'pressure': 1033, 'humidity': 63, 'sea_level': 1033, 'grnd_level': 1026}, 'visibility': 10000, 'wind': {'speed': 1.88, 'deg': 252, 'gust': 4.34}, 'clouds': {'all': 100}, 'dt': 1634764848, 'sys': {'country': 'NZ', 'sunrise': 1634751545, 'sunset': 1634800743}, 'timezone': 46800, 'id': 6201424, 'name': 'Mataura', 'cod': 200}\n",
      "Processing Record  5 of Set 1 | {'coord': {'lon': 115.3333, 'lat': -33.65}, 'weather': [{'id': 804, 'main': 'Clouds', 'description': 'overcast clouds', 'icon': '04n'}], 'base': 'stations', 'main': {'temp': 53.04, 'feels_like': 51.62, 'temp_min': 53.04, 'temp_max': 53.1, 'pressure': 1012, 'humidity': 76, 'sea_level': 1012, 'grnd_level': 1012}, 'visibility': 10000, 'wind': {'speed': 16.13, 'deg': 250, 'gust': 24.99}, 'clouds': {'all': 99}, 'dt': 1634764791, 'sys': {'type': 2, 'id': 2020551, 'country': 'AU', 'sunrise': 1634765418, 'sunset': 1634812562}, 'timezone': 28800, 'id': 2075265, 'name': 'Busselton', 'cod': 200}\n",
      "Processing Record  6 of Set 1 | {'coord': {'lon': -76.2281, 'lat': 3.2499}, 'weather': [{'id': 804, 'main': 'Clouds', 'description': 'overcast clouds', 'icon': '04d'}], 'base': 'stations', 'main': {'temp': 77.13, 'feels_like': 78.06, 'temp_min': 77.13, 'temp_max': 77.13, 'pressure': 1012, 'humidity': 75, 'sea_level': 1012, 'grnd_level': 892}, 'visibility': 10000, 'wind': {'speed': 2.19, 'deg': 214, 'gust': 3.91}, 'clouds': {'all': 89}, 'dt': 1634764848, 'sys': {'type': 1, 'id': 8590, 'country': 'CO', 'sunrise': 1634726911, 'sunset': 1634770228}, 'timezone': -18000, 'id': 3674702, 'name': 'Miranda', 'cod': 200}\n",
      "Processing Record  7 of Set 1 | {'coord': {'lon': -52.95, 'lat': 5.3833}, 'weather': [{'id': 802, 'main': 'Clouds', 'description': 'scattered clouds', 'icon': '03n'}], 'base': 'stations', 'main': {'temp': 81.3, 'feels_like': 86.72, 'temp_min': 81.3, 'temp_max': 81.3, 'pressure': 1011, 'humidity': 78, 'sea_level': 1011, 'grnd_level': 1010}, 'visibility': 10000, 'wind': {'speed': 9.17, 'deg': 56, 'gust': 13.24}, 'clouds': {'all': 37}, 'dt': 1634764849, 'sys': {'country': 'GF', 'sunrise': 1634721419, 'sunset': 1634764547}, 'timezone': -10800, 'id': 3380290, 'name': 'Sinnamary', 'cod': 200}\n",
      "Processing Record  8 of Set 1 | {'coord': {'lon': -102.1667, 'lat': 21.0167}, 'weather': [{'id': 800, 'main': 'Clear', 'description': 'clear sky', 'icon': '01d'}], 'base': 'stations', 'main': {'temp': 79.2, 'feels_like': 79.2, 'temp_min': 79.2, 'temp_max': 79.2, 'pressure': 1012, 'humidity': 37, 'sea_level': 1012, 'grnd_level': 804}, 'visibility': 10000, 'wind': {'speed': 2.82, 'deg': 71, 'gust': 6.13}, 'clouds': {'all': 1}, 'dt': 1634764849, 'sys': {'type': 2, 'id': 2038388, 'country': 'MX', 'sunrise': 1634733957, 'sunset': 1634775630}, 'timezone': -18000, 'id': 3985797, 'name': 'San Julián', 'cod': 200}\n",
      "Processing Record  9 of Set 1 | {'coord': {'lon': 135.8833, 'lat': 46.4856}, 'weather': [{'id': 800, 'main': 'Clear', 'description': 'clear sky', 'icon': '01n'}], 'base': 'stations', 'main': {'temp': 14.5, 'feels_like': 8.33, 'temp_min': 14.5, 'temp_max': 14.5, 'pressure': 1022, 'humidity': 84, 'sea_level': 1022, 'grnd_level': 947}, 'visibility': 10000, 'wind': {'speed': 3.69, 'deg': 170, 'gust': 3.24}, 'clouds': {'all': 6}, 'dt': 1634764849, 'sys': {'country': 'RU', 'sunrise': 1634764895, 'sunset': 1634803222}, 'timezone': 36000, 'id': 2013279, 'name': 'Vostok', 'cod': 200}\n"
     ]
    }
   ],
   "source": [
    "#\"http://api.openweathermap.org/data/2.5/weather?q={city name}&appid={API key}\"\n",
    "base_url = \"http://api.openweathermap.org/data/2.5/weather?q=\"\n",
    "#{city name}&appid={API key}\n",
    "resp_city_json=[]\n",
    "\n",
    "# set up lists to hold reponse info\n",
    "latList = []\n",
    "lngList= []\n",
    "MaxTempList=[]\n",
    "HumidityList=[]\n",
    "CloudinessList =[]\n",
    "WindspeedList = []\n",
    "CountryList=[]\n",
    "DateList=[]\n",
    "\n",
    "\n",
    "i=1\n",
    "listcnt=0\n",
    "setnum=1\n",
    "for city in cities:\n",
    "    try:\n",
    "        \n",
    "        resp_city = requests.get(base_url+city+\"&appid=\"+weather_api_key+\"&units=imperial\").json()\n",
    "#     print(\"Processing City\" + str(i) + \": Cityname: \"+city)\n",
    "#&units=imperial\n",
    "        resp_city_json.append(resp_city)\n",
    "        latList.append(resp_city['coord']['lat'])\n",
    "        lngList.append(resp_city['coord']['lon'])\n",
    "        MaxTempList.append(resp_city['main']['temp_max'])\n",
    "        HumidityList.append(resp_city['main']['humidity'])\n",
    "        CloudinessList.append(resp_city['clouds']['all'])\n",
    "        WindspeedList.append(resp_city['wind']['speed'])\n",
    "        CountryList.append(resp_city['sys']['country'])\n",
    "        DateList.append(resp_city['dt'])\n",
    "#     resp_city_json\n",
    "        i=i+1\n",
    "        if listcnt > 49:\n",
    "            listcnt=1\n",
    "            setnum = setnum + 1\n",
    "            resp_city_json.append(resp_city)\n",
    "        else:\n",
    "            listcnt=listcnt +1\n",
    "            resp_city_json.append(resp_city)\n",
    "        print(f\"Processing Record  {listcnt} of Set {setnum} | {resp_city}\")\n",
    "      \n",
    "    except Exception:\n",
    "          print(\"City not found. Skipping...\")    \n",
    "    if i > 10:\n",
    "        break\n",
    "\n"
   ]
  },
  {
   "cell_type": "code",
   "execution_count": 176,
   "metadata": {},
   "outputs": [
    {
     "data": {
      "text/plain": [
       "[-33.0153,\n",
       " 59.7035,\n",
       " 22.0752,\n",
       " -46.1927,\n",
       " -33.65,\n",
       " 3.2499,\n",
       " 5.3833,\n",
       " 21.0167,\n",
       " 46.4856]"
      ]
     },
     "execution_count": 176,
     "metadata": {},
     "output_type": "execute_result"
    }
   ],
   "source": [
    "latList"
   ]
  },
  {
   "cell_type": "code",
   "execution_count": 177,
   "metadata": {},
   "outputs": [
    {
     "data": {
      "text/plain": [
       "[{'coord': {'lon': 27.9116, 'lat': -33.0153},\n",
       "  'weather': [{'id': 802,\n",
       "    'main': 'Clouds',\n",
       "    'description': 'scattered clouds',\n",
       "    'icon': '03n'}],\n",
       "  'base': 'stations',\n",
       "  'main': {'temp': 63.97,\n",
       "   'feels_like': 63.97,\n",
       "   'temp_min': 63.97,\n",
       "   'temp_max': 63.97,\n",
       "   'pressure': 1017,\n",
       "   'humidity': 83,\n",
       "   'sea_level': 1017,\n",
       "   'grnd_level': 1011},\n",
       "  'visibility': 10000,\n",
       "  'wind': {'speed': 14.03, 'deg': 41, 'gust': 23.53},\n",
       "  'clouds': {'all': 35},\n",
       "  'dt': 1634764847,\n",
       "  'sys': {'country': 'ZA', 'sunrise': 1634700094, 'sunset': 1634747063},\n",
       "  'timezone': 7200,\n",
       "  'id': 1006984,\n",
       "  'name': 'East London',\n",
       "  'cod': 200},\n",
       " {'coord': {'lon': 27.9116, 'lat': -33.0153},\n",
       "  'weather': [{'id': 802,\n",
       "    'main': 'Clouds',\n",
       "    'description': 'scattered clouds',\n",
       "    'icon': '03n'}],\n",
       "  'base': 'stations',\n",
       "  'main': {'temp': 63.97,\n",
       "   'feels_like': 63.97,\n",
       "   'temp_min': 63.97,\n",
       "   'temp_max': 63.97,\n",
       "   'pressure': 1017,\n",
       "   'humidity': 83,\n",
       "   'sea_level': 1017,\n",
       "   'grnd_level': 1011},\n",
       "  'visibility': 10000,\n",
       "  'wind': {'speed': 14.03, 'deg': 41, 'gust': 23.53},\n",
       "  'clouds': {'all': 35},\n",
       "  'dt': 1634764847,\n",
       "  'sys': {'country': 'ZA', 'sunrise': 1634700094, 'sunset': 1634747063},\n",
       "  'timezone': 7200,\n",
       "  'id': 1006984,\n",
       "  'name': 'East London',\n",
       "  'cod': 200},\n",
       " {'coord': {'lon': 30.7861, 'lat': 59.7035},\n",
       "  'weather': [{'id': 500,\n",
       "    'main': 'Rain',\n",
       "    'description': 'light rain',\n",
       "    'icon': '10n'}],\n",
       "  'base': 'stations',\n",
       "  'main': {'temp': 50.22,\n",
       "   'feels_like': 49.26,\n",
       "   'temp_min': 49.39,\n",
       "   'temp_max': 50.88,\n",
       "   'pressure': 982,\n",
       "   'humidity': 92,\n",
       "   'sea_level': 982,\n",
       "   'grnd_level': 978},\n",
       "  'visibility': 10000,\n",
       "  'wind': {'speed': 15.97, 'deg': 218, 'gust': 41.45},\n",
       "  'rain': {'1h': 0.56},\n",
       "  'clouds': {'all': 100},\n",
       "  'dt': 1634764847,\n",
       "  'sys': {'type': 2,\n",
       "   'id': 2034996,\n",
       "   'country': 'RU',\n",
       "   'sunrise': 1634791800,\n",
       "   'sunset': 1634826758},\n",
       "  'timezone': 10800,\n",
       "  'id': 546105,\n",
       "  'name': 'Nikolskoye',\n",
       "  'cod': 200},\n",
       " {'coord': {'lon': 30.7861, 'lat': 59.7035},\n",
       "  'weather': [{'id': 500,\n",
       "    'main': 'Rain',\n",
       "    'description': 'light rain',\n",
       "    'icon': '10n'}],\n",
       "  'base': 'stations',\n",
       "  'main': {'temp': 50.22,\n",
       "   'feels_like': 49.26,\n",
       "   'temp_min': 49.39,\n",
       "   'temp_max': 50.88,\n",
       "   'pressure': 982,\n",
       "   'humidity': 92,\n",
       "   'sea_level': 982,\n",
       "   'grnd_level': 978},\n",
       "  'visibility': 10000,\n",
       "  'wind': {'speed': 15.97, 'deg': 218, 'gust': 41.45},\n",
       "  'rain': {'1h': 0.56},\n",
       "  'clouds': {'all': 100},\n",
       "  'dt': 1634764847,\n",
       "  'sys': {'type': 2,\n",
       "   'id': 2034996,\n",
       "   'country': 'RU',\n",
       "   'sunrise': 1634791800,\n",
       "   'sunset': 1634826758},\n",
       "  'timezone': 10800,\n",
       "  'id': 546105,\n",
       "  'name': 'Nikolskoye',\n",
       "  'cod': 200},\n",
       " {'coord': {'lon': -159.319, 'lat': 22.0752},\n",
       "  'weather': [{'id': 801,\n",
       "    'main': 'Clouds',\n",
       "    'description': 'few clouds',\n",
       "    'icon': '02d'}],\n",
       "  'base': 'stations',\n",
       "  'main': {'temp': 80.64,\n",
       "   'feels_like': 83.7,\n",
       "   'temp_min': 79.12,\n",
       "   'temp_max': 81.48,\n",
       "   'pressure': 1020,\n",
       "   'humidity': 68},\n",
       "  'visibility': 10000,\n",
       "  'wind': {'speed': 3, 'deg': 103, 'gust': 10},\n",
       "  'clouds': {'all': 20},\n",
       "  'dt': 1634764848,\n",
       "  'sys': {'type': 2,\n",
       "   'id': 2039329,\n",
       "   'country': 'US',\n",
       "   'sunrise': 1634747731,\n",
       "   'sunset': 1634789287},\n",
       "  'timezone': -36000,\n",
       "  'id': 5848280,\n",
       "  'name': 'Kapaa',\n",
       "  'cod': 200},\n",
       " {'coord': {'lon': -159.319, 'lat': 22.0752},\n",
       "  'weather': [{'id': 801,\n",
       "    'main': 'Clouds',\n",
       "    'description': 'few clouds',\n",
       "    'icon': '02d'}],\n",
       "  'base': 'stations',\n",
       "  'main': {'temp': 80.64,\n",
       "   'feels_like': 83.7,\n",
       "   'temp_min': 79.12,\n",
       "   'temp_max': 81.48,\n",
       "   'pressure': 1020,\n",
       "   'humidity': 68},\n",
       "  'visibility': 10000,\n",
       "  'wind': {'speed': 3, 'deg': 103, 'gust': 10},\n",
       "  'clouds': {'all': 20},\n",
       "  'dt': 1634764848,\n",
       "  'sys': {'type': 2,\n",
       "   'id': 2039329,\n",
       "   'country': 'US',\n",
       "   'sunrise': 1634747731,\n",
       "   'sunset': 1634789287},\n",
       "  'timezone': -36000,\n",
       "  'id': 5848280,\n",
       "  'name': 'Kapaa',\n",
       "  'cod': 200},\n",
       " {'coord': {'lon': 168.8643, 'lat': -46.1927},\n",
       "  'weather': [{'id': 804,\n",
       "    'main': 'Clouds',\n",
       "    'description': 'overcast clouds',\n",
       "    'icon': '04d'}],\n",
       "  'base': 'stations',\n",
       "  'main': {'temp': 47.32,\n",
       "   'feels_like': 47.32,\n",
       "   'temp_min': 47.32,\n",
       "   'temp_max': 47.32,\n",
       "   'pressure': 1033,\n",
       "   'humidity': 63,\n",
       "   'sea_level': 1033,\n",
       "   'grnd_level': 1026},\n",
       "  'visibility': 10000,\n",
       "  'wind': {'speed': 1.88, 'deg': 252, 'gust': 4.34},\n",
       "  'clouds': {'all': 100},\n",
       "  'dt': 1634764848,\n",
       "  'sys': {'country': 'NZ', 'sunrise': 1634751545, 'sunset': 1634800743},\n",
       "  'timezone': 46800,\n",
       "  'id': 6201424,\n",
       "  'name': 'Mataura',\n",
       "  'cod': 200},\n",
       " {'coord': {'lon': 168.8643, 'lat': -46.1927},\n",
       "  'weather': [{'id': 804,\n",
       "    'main': 'Clouds',\n",
       "    'description': 'overcast clouds',\n",
       "    'icon': '04d'}],\n",
       "  'base': 'stations',\n",
       "  'main': {'temp': 47.32,\n",
       "   'feels_like': 47.32,\n",
       "   'temp_min': 47.32,\n",
       "   'temp_max': 47.32,\n",
       "   'pressure': 1033,\n",
       "   'humidity': 63,\n",
       "   'sea_level': 1033,\n",
       "   'grnd_level': 1026},\n",
       "  'visibility': 10000,\n",
       "  'wind': {'speed': 1.88, 'deg': 252, 'gust': 4.34},\n",
       "  'clouds': {'all': 100},\n",
       "  'dt': 1634764848,\n",
       "  'sys': {'country': 'NZ', 'sunrise': 1634751545, 'sunset': 1634800743},\n",
       "  'timezone': 46800,\n",
       "  'id': 6201424,\n",
       "  'name': 'Mataura',\n",
       "  'cod': 200},\n",
       " {'coord': {'lon': 115.3333, 'lat': -33.65},\n",
       "  'weather': [{'id': 804,\n",
       "    'main': 'Clouds',\n",
       "    'description': 'overcast clouds',\n",
       "    'icon': '04n'}],\n",
       "  'base': 'stations',\n",
       "  'main': {'temp': 53.04,\n",
       "   'feels_like': 51.62,\n",
       "   'temp_min': 53.04,\n",
       "   'temp_max': 53.1,\n",
       "   'pressure': 1012,\n",
       "   'humidity': 76,\n",
       "   'sea_level': 1012,\n",
       "   'grnd_level': 1012},\n",
       "  'visibility': 10000,\n",
       "  'wind': {'speed': 16.13, 'deg': 250, 'gust': 24.99},\n",
       "  'clouds': {'all': 99},\n",
       "  'dt': 1634764791,\n",
       "  'sys': {'type': 2,\n",
       "   'id': 2020551,\n",
       "   'country': 'AU',\n",
       "   'sunrise': 1634765418,\n",
       "   'sunset': 1634812562},\n",
       "  'timezone': 28800,\n",
       "  'id': 2075265,\n",
       "  'name': 'Busselton',\n",
       "  'cod': 200},\n",
       " {'coord': {'lon': 115.3333, 'lat': -33.65},\n",
       "  'weather': [{'id': 804,\n",
       "    'main': 'Clouds',\n",
       "    'description': 'overcast clouds',\n",
       "    'icon': '04n'}],\n",
       "  'base': 'stations',\n",
       "  'main': {'temp': 53.04,\n",
       "   'feels_like': 51.62,\n",
       "   'temp_min': 53.04,\n",
       "   'temp_max': 53.1,\n",
       "   'pressure': 1012,\n",
       "   'humidity': 76,\n",
       "   'sea_level': 1012,\n",
       "   'grnd_level': 1012},\n",
       "  'visibility': 10000,\n",
       "  'wind': {'speed': 16.13, 'deg': 250, 'gust': 24.99},\n",
       "  'clouds': {'all': 99},\n",
       "  'dt': 1634764791,\n",
       "  'sys': {'type': 2,\n",
       "   'id': 2020551,\n",
       "   'country': 'AU',\n",
       "   'sunrise': 1634765418,\n",
       "   'sunset': 1634812562},\n",
       "  'timezone': 28800,\n",
       "  'id': 2075265,\n",
       "  'name': 'Busselton',\n",
       "  'cod': 200},\n",
       " {'coord': {'lon': -76.2281, 'lat': 3.2499},\n",
       "  'weather': [{'id': 804,\n",
       "    'main': 'Clouds',\n",
       "    'description': 'overcast clouds',\n",
       "    'icon': '04d'}],\n",
       "  'base': 'stations',\n",
       "  'main': {'temp': 77.13,\n",
       "   'feels_like': 78.06,\n",
       "   'temp_min': 77.13,\n",
       "   'temp_max': 77.13,\n",
       "   'pressure': 1012,\n",
       "   'humidity': 75,\n",
       "   'sea_level': 1012,\n",
       "   'grnd_level': 892},\n",
       "  'visibility': 10000,\n",
       "  'wind': {'speed': 2.19, 'deg': 214, 'gust': 3.91},\n",
       "  'clouds': {'all': 89},\n",
       "  'dt': 1634764848,\n",
       "  'sys': {'type': 1,\n",
       "   'id': 8590,\n",
       "   'country': 'CO',\n",
       "   'sunrise': 1634726911,\n",
       "   'sunset': 1634770228},\n",
       "  'timezone': -18000,\n",
       "  'id': 3674702,\n",
       "  'name': 'Miranda',\n",
       "  'cod': 200},\n",
       " {'coord': {'lon': -76.2281, 'lat': 3.2499},\n",
       "  'weather': [{'id': 804,\n",
       "    'main': 'Clouds',\n",
       "    'description': 'overcast clouds',\n",
       "    'icon': '04d'}],\n",
       "  'base': 'stations',\n",
       "  'main': {'temp': 77.13,\n",
       "   'feels_like': 78.06,\n",
       "   'temp_min': 77.13,\n",
       "   'temp_max': 77.13,\n",
       "   'pressure': 1012,\n",
       "   'humidity': 75,\n",
       "   'sea_level': 1012,\n",
       "   'grnd_level': 892},\n",
       "  'visibility': 10000,\n",
       "  'wind': {'speed': 2.19, 'deg': 214, 'gust': 3.91},\n",
       "  'clouds': {'all': 89},\n",
       "  'dt': 1634764848,\n",
       "  'sys': {'type': 1,\n",
       "   'id': 8590,\n",
       "   'country': 'CO',\n",
       "   'sunrise': 1634726911,\n",
       "   'sunset': 1634770228},\n",
       "  'timezone': -18000,\n",
       "  'id': 3674702,\n",
       "  'name': 'Miranda',\n",
       "  'cod': 200},\n",
       " {'coord': {'lon': -52.95, 'lat': 5.3833},\n",
       "  'weather': [{'id': 802,\n",
       "    'main': 'Clouds',\n",
       "    'description': 'scattered clouds',\n",
       "    'icon': '03n'}],\n",
       "  'base': 'stations',\n",
       "  'main': {'temp': 81.3,\n",
       "   'feels_like': 86.72,\n",
       "   'temp_min': 81.3,\n",
       "   'temp_max': 81.3,\n",
       "   'pressure': 1011,\n",
       "   'humidity': 78,\n",
       "   'sea_level': 1011,\n",
       "   'grnd_level': 1010},\n",
       "  'visibility': 10000,\n",
       "  'wind': {'speed': 9.17, 'deg': 56, 'gust': 13.24},\n",
       "  'clouds': {'all': 37},\n",
       "  'dt': 1634764849,\n",
       "  'sys': {'country': 'GF', 'sunrise': 1634721419, 'sunset': 1634764547},\n",
       "  'timezone': -10800,\n",
       "  'id': 3380290,\n",
       "  'name': 'Sinnamary',\n",
       "  'cod': 200},\n",
       " {'coord': {'lon': -52.95, 'lat': 5.3833},\n",
       "  'weather': [{'id': 802,\n",
       "    'main': 'Clouds',\n",
       "    'description': 'scattered clouds',\n",
       "    'icon': '03n'}],\n",
       "  'base': 'stations',\n",
       "  'main': {'temp': 81.3,\n",
       "   'feels_like': 86.72,\n",
       "   'temp_min': 81.3,\n",
       "   'temp_max': 81.3,\n",
       "   'pressure': 1011,\n",
       "   'humidity': 78,\n",
       "   'sea_level': 1011,\n",
       "   'grnd_level': 1010},\n",
       "  'visibility': 10000,\n",
       "  'wind': {'speed': 9.17, 'deg': 56, 'gust': 13.24},\n",
       "  'clouds': {'all': 37},\n",
       "  'dt': 1634764849,\n",
       "  'sys': {'country': 'GF', 'sunrise': 1634721419, 'sunset': 1634764547},\n",
       "  'timezone': -10800,\n",
       "  'id': 3380290,\n",
       "  'name': 'Sinnamary',\n",
       "  'cod': 200},\n",
       " {'coord': {'lon': -102.1667, 'lat': 21.0167},\n",
       "  'weather': [{'id': 800,\n",
       "    'main': 'Clear',\n",
       "    'description': 'clear sky',\n",
       "    'icon': '01d'}],\n",
       "  'base': 'stations',\n",
       "  'main': {'temp': 79.2,\n",
       "   'feels_like': 79.2,\n",
       "   'temp_min': 79.2,\n",
       "   'temp_max': 79.2,\n",
       "   'pressure': 1012,\n",
       "   'humidity': 37,\n",
       "   'sea_level': 1012,\n",
       "   'grnd_level': 804},\n",
       "  'visibility': 10000,\n",
       "  'wind': {'speed': 2.82, 'deg': 71, 'gust': 6.13},\n",
       "  'clouds': {'all': 1},\n",
       "  'dt': 1634764849,\n",
       "  'sys': {'type': 2,\n",
       "   'id': 2038388,\n",
       "   'country': 'MX',\n",
       "   'sunrise': 1634733957,\n",
       "   'sunset': 1634775630},\n",
       "  'timezone': -18000,\n",
       "  'id': 3985797,\n",
       "  'name': 'San Julián',\n",
       "  'cod': 200},\n",
       " {'coord': {'lon': -102.1667, 'lat': 21.0167},\n",
       "  'weather': [{'id': 800,\n",
       "    'main': 'Clear',\n",
       "    'description': 'clear sky',\n",
       "    'icon': '01d'}],\n",
       "  'base': 'stations',\n",
       "  'main': {'temp': 79.2,\n",
       "   'feels_like': 79.2,\n",
       "   'temp_min': 79.2,\n",
       "   'temp_max': 79.2,\n",
       "   'pressure': 1012,\n",
       "   'humidity': 37,\n",
       "   'sea_level': 1012,\n",
       "   'grnd_level': 804},\n",
       "  'visibility': 10000,\n",
       "  'wind': {'speed': 2.82, 'deg': 71, 'gust': 6.13},\n",
       "  'clouds': {'all': 1},\n",
       "  'dt': 1634764849,\n",
       "  'sys': {'type': 2,\n",
       "   'id': 2038388,\n",
       "   'country': 'MX',\n",
       "   'sunrise': 1634733957,\n",
       "   'sunset': 1634775630},\n",
       "  'timezone': -18000,\n",
       "  'id': 3985797,\n",
       "  'name': 'San Julián',\n",
       "  'cod': 200},\n",
       " {'coord': {'lon': 135.8833, 'lat': 46.4856},\n",
       "  'weather': [{'id': 800,\n",
       "    'main': 'Clear',\n",
       "    'description': 'clear sky',\n",
       "    'icon': '01n'}],\n",
       "  'base': 'stations',\n",
       "  'main': {'temp': 14.5,\n",
       "   'feels_like': 8.33,\n",
       "   'temp_min': 14.5,\n",
       "   'temp_max': 14.5,\n",
       "   'pressure': 1022,\n",
       "   'humidity': 84,\n",
       "   'sea_level': 1022,\n",
       "   'grnd_level': 947},\n",
       "  'visibility': 10000,\n",
       "  'wind': {'speed': 3.69, 'deg': 170, 'gust': 3.24},\n",
       "  'clouds': {'all': 6},\n",
       "  'dt': 1634764849,\n",
       "  'sys': {'country': 'RU', 'sunrise': 1634764895, 'sunset': 1634803222},\n",
       "  'timezone': 36000,\n",
       "  'id': 2013279,\n",
       "  'name': 'Vostok',\n",
       "  'cod': 200},\n",
       " {'coord': {'lon': 135.8833, 'lat': 46.4856},\n",
       "  'weather': [{'id': 800,\n",
       "    'main': 'Clear',\n",
       "    'description': 'clear sky',\n",
       "    'icon': '01n'}],\n",
       "  'base': 'stations',\n",
       "  'main': {'temp': 14.5,\n",
       "   'feels_like': 8.33,\n",
       "   'temp_min': 14.5,\n",
       "   'temp_max': 14.5,\n",
       "   'pressure': 1022,\n",
       "   'humidity': 84,\n",
       "   'sea_level': 1022,\n",
       "   'grnd_level': 947},\n",
       "  'visibility': 10000,\n",
       "  'wind': {'speed': 3.69, 'deg': 170, 'gust': 3.24},\n",
       "  'clouds': {'all': 6},\n",
       "  'dt': 1634764849,\n",
       "  'sys': {'country': 'RU', 'sunrise': 1634764895, 'sunset': 1634803222},\n",
       "  'timezone': 36000,\n",
       "  'id': 2013279,\n",
       "  'name': 'Vostok',\n",
       "  'cod': 200}]"
      ]
     },
     "execution_count": 177,
     "metadata": {},
     "output_type": "execute_result"
    }
   ],
   "source": [
    "resp_city_json"
   ]
  },
  {
   "cell_type": "code",
   "execution_count": 178,
   "metadata": {},
   "outputs": [
    {
     "name": "stdout",
     "output_type": "stream",
     "text": [
      "18\n"
     ]
    }
   ],
   "source": [
    "print(len(resp_city_json))"
   ]
  },
  {
   "cell_type": "code",
   "execution_count": 179,
   "metadata": {},
   "outputs": [
    {
     "name": "stdout",
     "output_type": "stream",
     "text": [
      "{'coord': {'lon': 27.9116, 'lat': -33.0153}, 'weather': [{'id': 802, 'main': 'Clouds', 'description': 'scattered clouds', 'icon': '03n'}], 'base': 'stations', 'main': {'temp': 63.97, 'feels_like': 63.97, 'temp_min': 63.97, 'temp_max': 63.97, 'pressure': 1017, 'humidity': 83, 'sea_level': 1017, 'grnd_level': 1011}, 'visibility': 10000, 'wind': {'speed': 14.03, 'deg': 41, 'gust': 23.53}, 'clouds': {'all': 35}, 'dt': 1634764847, 'sys': {'country': 'ZA', 'sunrise': 1634700094, 'sunset': 1634747063}, 'timezone': 7200, 'id': 1006984, 'name': 'East London', 'cod': 200}\n"
     ]
    }
   ],
   "source": [
    "print(resp_city_json[0])"
   ]
  },
  {
   "cell_type": "code",
   "execution_count": 180,
   "metadata": {},
   "outputs": [
    {
     "data": {
      "text/plain": [
       "list"
      ]
     },
     "execution_count": 180,
     "metadata": {},
     "output_type": "execute_result"
    }
   ],
   "source": [
    "type(resp_city_json)"
   ]
  },
  {
   "cell_type": "markdown",
   "metadata": {},
   "source": [
    "### Convert Raw Data to DataFrame\n",
    "* Export the city data into a .csv.\n",
    "* Display the DataFrame"
   ]
  },
  {
   "cell_type": "code",
   "execution_count": 181,
   "metadata": {},
   "outputs": [
    {
     "name": "stdout",
     "output_type": "stream",
     "text": [
      "9\n",
      "9\n"
     ]
    },
    {
     "data": {
      "text/html": [
       "<div>\n",
       "<style scoped>\n",
       "    .dataframe tbody tr th:only-of-type {\n",
       "        vertical-align: middle;\n",
       "    }\n",
       "\n",
       "    .dataframe tbody tr th {\n",
       "        vertical-align: top;\n",
       "    }\n",
       "\n",
       "    .dataframe thead th {\n",
       "        text-align: right;\n",
       "    }\n",
       "</style>\n",
       "<table border=\"1\" class=\"dataframe\">\n",
       "  <thead>\n",
       "    <tr style=\"text-align: right;\">\n",
       "      <th></th>\n",
       "      <th>City</th>\n",
       "      <th>Lat</th>\n",
       "      <th>Lng</th>\n",
       "      <th>Max Temp</th>\n",
       "      <th>Humidity</th>\n",
       "      <th>Cloudiness</th>\n",
       "      <th>WindSpeed</th>\n",
       "      <th>Country</th>\n",
       "      <th>Date</th>\n",
       "    </tr>\n",
       "  </thead>\n",
       "  <tbody>\n",
       "    <tr>\n",
       "      <th>0</th>\n",
       "      <td>east london</td>\n",
       "      <td>-33.0153</td>\n",
       "      <td>27.9116</td>\n",
       "      <td>63.97</td>\n",
       "      <td>83</td>\n",
       "      <td>35</td>\n",
       "      <td>14.03</td>\n",
       "      <td>ZA</td>\n",
       "      <td>1634764847</td>\n",
       "    </tr>\n",
       "    <tr>\n",
       "      <th>1</th>\n",
       "      <td>nikolskoye</td>\n",
       "      <td>59.7035</td>\n",
       "      <td>30.7861</td>\n",
       "      <td>50.88</td>\n",
       "      <td>92</td>\n",
       "      <td>100</td>\n",
       "      <td>15.97</td>\n",
       "      <td>RU</td>\n",
       "      <td>1634764847</td>\n",
       "    </tr>\n",
       "    <tr>\n",
       "      <th>2</th>\n",
       "      <td>kapaa</td>\n",
       "      <td>22.0752</td>\n",
       "      <td>-159.3190</td>\n",
       "      <td>81.48</td>\n",
       "      <td>68</td>\n",
       "      <td>20</td>\n",
       "      <td>3.00</td>\n",
       "      <td>US</td>\n",
       "      <td>1634764848</td>\n",
       "    </tr>\n",
       "    <tr>\n",
       "      <th>3</th>\n",
       "      <td>mataura</td>\n",
       "      <td>-46.1927</td>\n",
       "      <td>168.8643</td>\n",
       "      <td>47.32</td>\n",
       "      <td>63</td>\n",
       "      <td>100</td>\n",
       "      <td>1.88</td>\n",
       "      <td>NZ</td>\n",
       "      <td>1634764848</td>\n",
       "    </tr>\n",
       "    <tr>\n",
       "      <th>4</th>\n",
       "      <td>busselton</td>\n",
       "      <td>-33.6500</td>\n",
       "      <td>115.3333</td>\n",
       "      <td>53.10</td>\n",
       "      <td>76</td>\n",
       "      <td>99</td>\n",
       "      <td>16.13</td>\n",
       "      <td>AU</td>\n",
       "      <td>1634764791</td>\n",
       "    </tr>\n",
       "  </tbody>\n",
       "</table>\n",
       "</div>"
      ],
      "text/plain": [
       "          City      Lat       Lng  Max Temp  Humidity  Cloudiness  WindSpeed  \\\n",
       "0  east london -33.0153   27.9116     63.97        83          35      14.03   \n",
       "1   nikolskoye  59.7035   30.7861     50.88        92         100      15.97   \n",
       "2        kapaa  22.0752 -159.3190     81.48        68          20       3.00   \n",
       "3      mataura -46.1927  168.8643     47.32        63         100       1.88   \n",
       "4    busselton -33.6500  115.3333     53.10        76          99      16.13   \n",
       "\n",
       "  Country        Date  \n",
       "0      ZA  1634764847  \n",
       "1      RU  1634764847  \n",
       "2      US  1634764848  \n",
       "3      NZ  1634764848  \n",
       "4      AU  1634764791  "
      ]
     },
     "execution_count": 181,
     "metadata": {},
     "output_type": "execute_result"
    }
   ],
   "source": [
    "# Data frame \n",
    "\n",
    "weather_dict = {\n",
    "    \"City\": cities,\n",
    "    \"Lat\": latList,\n",
    "    \"Lng\": lngList,\n",
    "    \"Max Temp\": MaxTempList,\n",
    "    \"Humidity\": HumidityList,\n",
    "    \"Cloudiness\": CloudinessList,\n",
    "    \"WindSpeed\": WindspeedList,\n",
    "    \"Country\": CountryList,\n",
    "    \"Date\": DateList\n",
    "}\n",
    "\n",
    "\n",
    "print(len(cities) )\n",
    "print(len(latList))\n",
    "\n",
    "\n",
    "weather_df= pd.DataFrame(weather_dict)                             \n",
    "           \n",
    "weather_df.head()\n"
   ]
  },
  {
   "cell_type": "code",
   "execution_count": 182,
   "metadata": {},
   "outputs": [],
   "source": [
    "#Exporting the data to a .csv to the above mentioned file  \n",
    "# Output File (CSV) output_data_file = \"Output/weather_data.csv\"\n",
    "weather_df.to_csv(output_data_file)"
   ]
  },
  {
   "cell_type": "code",
   "execution_count": 183,
   "metadata": {},
   "outputs": [],
   "source": [
    "# # Build a scatter plot for each data type\n",
    "# plt.scatter(weather_data[\"lat\"], weather_data[\"temp\"], marker=\"o\")\n",
    "\n",
    "# # Incorporate the other graph properties\n",
    "# plt.title(\"Temperature in World Cities\")\n",
    "# plt.ylabel(\"Temperature (Celsius)\")\n",
    "# plt.xlabel(\"Latitude\")\n",
    "# plt.grid(True)\n",
    "\n",
    "# # Save the figure\n",
    "# plt.savefig(\"TemperatureInWorldCities.png\")\n",
    "\n",
    "# # Show plot\n",
    "# plt.show()\n"
   ]
  },
  {
   "cell_type": "code",
   "execution_count": 184,
   "metadata": {},
   "outputs": [
    {
     "data": {
      "text/html": [
       "<div>\n",
       "<style scoped>\n",
       "    .dataframe tbody tr th:only-of-type {\n",
       "        vertical-align: middle;\n",
       "    }\n",
       "\n",
       "    .dataframe tbody tr th {\n",
       "        vertical-align: top;\n",
       "    }\n",
       "\n",
       "    .dataframe thead th {\n",
       "        text-align: right;\n",
       "    }\n",
       "</style>\n",
       "<table border=\"1\" class=\"dataframe\">\n",
       "  <thead>\n",
       "    <tr style=\"text-align: right;\">\n",
       "      <th></th>\n",
       "      <th>Lat</th>\n",
       "      <th>Lng</th>\n",
       "      <th>Max Temp</th>\n",
       "      <th>Humidity</th>\n",
       "      <th>Cloudiness</th>\n",
       "      <th>WindSpeed</th>\n",
       "      <th>Date</th>\n",
       "    </tr>\n",
       "  </thead>\n",
       "  <tbody>\n",
       "    <tr>\n",
       "      <th>count</th>\n",
       "      <td>9.000000</td>\n",
       "      <td>9.000000</td>\n",
       "      <td>9.000000</td>\n",
       "      <td>9.000000</td>\n",
       "      <td>9.000000</td>\n",
       "      <td>9.000000</td>\n",
       "      <td>9.000000e+00</td>\n",
       "    </tr>\n",
       "    <tr>\n",
       "      <th>mean</th>\n",
       "      <td>5.006244</td>\n",
       "      <td>9.790533</td>\n",
       "      <td>60.986667</td>\n",
       "      <td>72.888889</td>\n",
       "      <td>54.111111</td>\n",
       "      <td>7.653333</td>\n",
       "      <td>1.634765e+09</td>\n",
       "    </tr>\n",
       "    <tr>\n",
       "      <th>std</th>\n",
       "      <td>36.784019</td>\n",
       "      <td>114.880562</td>\n",
       "      <td>22.209157</td>\n",
       "      <td>15.972198</td>\n",
       "      <td>42.427716</td>\n",
       "      <td>6.203678</td>\n",
       "      <td>1.905766e+01</td>\n",
       "    </tr>\n",
       "    <tr>\n",
       "      <th>min</th>\n",
       "      <td>-46.192700</td>\n",
       "      <td>-159.319000</td>\n",
       "      <td>14.500000</td>\n",
       "      <td>37.000000</td>\n",
       "      <td>1.000000</td>\n",
       "      <td>1.880000</td>\n",
       "      <td>1.634765e+09</td>\n",
       "    </tr>\n",
       "    <tr>\n",
       "      <th>25%</th>\n",
       "      <td>-33.015300</td>\n",
       "      <td>-76.228100</td>\n",
       "      <td>50.880000</td>\n",
       "      <td>68.000000</td>\n",
       "      <td>20.000000</td>\n",
       "      <td>2.820000</td>\n",
       "      <td>1.634765e+09</td>\n",
       "    </tr>\n",
       "    <tr>\n",
       "      <th>50%</th>\n",
       "      <td>5.383300</td>\n",
       "      <td>27.911600</td>\n",
       "      <td>63.970000</td>\n",
       "      <td>76.000000</td>\n",
       "      <td>37.000000</td>\n",
       "      <td>3.690000</td>\n",
       "      <td>1.634765e+09</td>\n",
       "    </tr>\n",
       "    <tr>\n",
       "      <th>75%</th>\n",
       "      <td>22.075200</td>\n",
       "      <td>115.333300</td>\n",
       "      <td>79.200000</td>\n",
       "      <td>83.000000</td>\n",
       "      <td>99.000000</td>\n",
       "      <td>14.030000</td>\n",
       "      <td>1.634765e+09</td>\n",
       "    </tr>\n",
       "    <tr>\n",
       "      <th>max</th>\n",
       "      <td>59.703500</td>\n",
       "      <td>168.864300</td>\n",
       "      <td>81.480000</td>\n",
       "      <td>92.000000</td>\n",
       "      <td>100.000000</td>\n",
       "      <td>16.130000</td>\n",
       "      <td>1.634765e+09</td>\n",
       "    </tr>\n",
       "  </tbody>\n",
       "</table>\n",
       "</div>"
      ],
      "text/plain": [
       "             Lat         Lng   Max Temp   Humidity  Cloudiness  WindSpeed  \\\n",
       "count   9.000000    9.000000   9.000000   9.000000    9.000000   9.000000   \n",
       "mean    5.006244    9.790533  60.986667  72.888889   54.111111   7.653333   \n",
       "std    36.784019  114.880562  22.209157  15.972198   42.427716   6.203678   \n",
       "min   -46.192700 -159.319000  14.500000  37.000000    1.000000   1.880000   \n",
       "25%   -33.015300  -76.228100  50.880000  68.000000   20.000000   2.820000   \n",
       "50%     5.383300   27.911600  63.970000  76.000000   37.000000   3.690000   \n",
       "75%    22.075200  115.333300  79.200000  83.000000   99.000000  14.030000   \n",
       "max    59.703500  168.864300  81.480000  92.000000  100.000000  16.130000   \n",
       "\n",
       "               Date  \n",
       "count  9.000000e+00  \n",
       "mean   1.634765e+09  \n",
       "std    1.905766e+01  \n",
       "min    1.634765e+09  \n",
       "25%    1.634765e+09  \n",
       "50%    1.634765e+09  \n",
       "75%    1.634765e+09  \n",
       "max    1.634765e+09  "
      ]
     },
     "execution_count": 184,
     "metadata": {},
     "output_type": "execute_result"
    }
   ],
   "source": [
    "weather_df.describe()"
   ]
  },
  {
   "cell_type": "markdown",
   "metadata": {},
   "source": [
    "## Inspect the data and remove the cities where the humidity > 100%.\n",
    "----\n",
    "Skip this step if there are no cities that have humidity > 100%. "
   ]
  },
  {
   "cell_type": "code",
   "execution_count": 185,
   "metadata": {
    "scrolled": true
   },
   "outputs": [
    {
     "data": {
      "text/html": [
       "<div>\n",
       "<style scoped>\n",
       "    .dataframe tbody tr th:only-of-type {\n",
       "        vertical-align: middle;\n",
       "    }\n",
       "\n",
       "    .dataframe tbody tr th {\n",
       "        vertical-align: top;\n",
       "    }\n",
       "\n",
       "    .dataframe thead th {\n",
       "        text-align: right;\n",
       "    }\n",
       "</style>\n",
       "<table border=\"1\" class=\"dataframe\">\n",
       "  <thead>\n",
       "    <tr style=\"text-align: right;\">\n",
       "      <th></th>\n",
       "      <th>City</th>\n",
       "      <th>Lat</th>\n",
       "      <th>Lng</th>\n",
       "      <th>Max Temp</th>\n",
       "      <th>Humidity</th>\n",
       "      <th>Cloudiness</th>\n",
       "      <th>WindSpeed</th>\n",
       "      <th>Country</th>\n",
       "      <th>Date</th>\n",
       "    </tr>\n",
       "  </thead>\n",
       "  <tbody>\n",
       "    <tr>\n",
       "      <th>0</th>\n",
       "      <td>east london</td>\n",
       "      <td>-33.0153</td>\n",
       "      <td>27.9116</td>\n",
       "      <td>63.97</td>\n",
       "      <td>83</td>\n",
       "      <td>35</td>\n",
       "      <td>14.03</td>\n",
       "      <td>ZA</td>\n",
       "      <td>1634764847</td>\n",
       "    </tr>\n",
       "    <tr>\n",
       "      <th>1</th>\n",
       "      <td>nikolskoye</td>\n",
       "      <td>59.7035</td>\n",
       "      <td>30.7861</td>\n",
       "      <td>50.88</td>\n",
       "      <td>92</td>\n",
       "      <td>100</td>\n",
       "      <td>15.97</td>\n",
       "      <td>RU</td>\n",
       "      <td>1634764847</td>\n",
       "    </tr>\n",
       "    <tr>\n",
       "      <th>4</th>\n",
       "      <td>busselton</td>\n",
       "      <td>-33.6500</td>\n",
       "      <td>115.3333</td>\n",
       "      <td>53.10</td>\n",
       "      <td>76</td>\n",
       "      <td>99</td>\n",
       "      <td>16.13</td>\n",
       "      <td>AU</td>\n",
       "      <td>1634764791</td>\n",
       "    </tr>\n",
       "    <tr>\n",
       "      <th>5</th>\n",
       "      <td>miranda</td>\n",
       "      <td>3.2499</td>\n",
       "      <td>-76.2281</td>\n",
       "      <td>77.13</td>\n",
       "      <td>75</td>\n",
       "      <td>89</td>\n",
       "      <td>2.19</td>\n",
       "      <td>CO</td>\n",
       "      <td>1634764848</td>\n",
       "    </tr>\n",
       "    <tr>\n",
       "      <th>6</th>\n",
       "      <td>sinnamary</td>\n",
       "      <td>5.3833</td>\n",
       "      <td>-52.9500</td>\n",
       "      <td>81.30</td>\n",
       "      <td>78</td>\n",
       "      <td>37</td>\n",
       "      <td>9.17</td>\n",
       "      <td>GF</td>\n",
       "      <td>1634764849</td>\n",
       "    </tr>\n",
       "    <tr>\n",
       "      <th>8</th>\n",
       "      <td>vostok</td>\n",
       "      <td>46.4856</td>\n",
       "      <td>135.8833</td>\n",
       "      <td>14.50</td>\n",
       "      <td>84</td>\n",
       "      <td>6</td>\n",
       "      <td>3.69</td>\n",
       "      <td>RU</td>\n",
       "      <td>1634764849</td>\n",
       "    </tr>\n",
       "  </tbody>\n",
       "</table>\n",
       "</div>"
      ],
      "text/plain": [
       "          City      Lat       Lng  Max Temp  Humidity  Cloudiness  WindSpeed  \\\n",
       "0  east london -33.0153   27.9116     63.97        83          35      14.03   \n",
       "1   nikolskoye  59.7035   30.7861     50.88        92         100      15.97   \n",
       "4    busselton -33.6500  115.3333     53.10        76          99      16.13   \n",
       "5      miranda   3.2499  -76.2281     77.13        75          89       2.19   \n",
       "6    sinnamary   5.3833  -52.9500     81.30        78          37       9.17   \n",
       "8       vostok  46.4856  135.8833     14.50        84           6       3.69   \n",
       "\n",
       "  Country        Date  \n",
       "0      ZA  1634764847  \n",
       "1      RU  1634764847  \n",
       "4      AU  1634764791  \n",
       "5      CO  1634764848  \n",
       "6      GF  1634764849  \n",
       "8      RU  1634764849  "
      ]
     },
     "execution_count": 185,
     "metadata": {},
     "output_type": "execute_result"
    }
   ],
   "source": [
    "weather_df.loc[weather_df[\"Humidity\"] > 70]"
   ]
  },
  {
   "cell_type": "code",
   "execution_count": 186,
   "metadata": {
    "scrolled": true
   },
   "outputs": [
    {
     "data": {
      "text/html": [
       "<div>\n",
       "<style scoped>\n",
       "    .dataframe tbody tr th:only-of-type {\n",
       "        vertical-align: middle;\n",
       "    }\n",
       "\n",
       "    .dataframe tbody tr th {\n",
       "        vertical-align: top;\n",
       "    }\n",
       "\n",
       "    .dataframe thead th {\n",
       "        text-align: right;\n",
       "    }\n",
       "</style>\n",
       "<table border=\"1\" class=\"dataframe\">\n",
       "  <thead>\n",
       "    <tr style=\"text-align: right;\">\n",
       "      <th></th>\n",
       "      <th>City</th>\n",
       "      <th>Lat</th>\n",
       "      <th>Lng</th>\n",
       "      <th>Max Temp</th>\n",
       "      <th>Humidity</th>\n",
       "      <th>Cloudiness</th>\n",
       "      <th>WindSpeed</th>\n",
       "      <th>Country</th>\n",
       "      <th>Date</th>\n",
       "    </tr>\n",
       "  </thead>\n",
       "  <tbody>\n",
       "    <tr>\n",
       "      <th>0</th>\n",
       "      <td>east london</td>\n",
       "      <td>-33.0153</td>\n",
       "      <td>27.9116</td>\n",
       "      <td>63.97</td>\n",
       "      <td>83</td>\n",
       "      <td>35</td>\n",
       "      <td>14.03</td>\n",
       "      <td>ZA</td>\n",
       "      <td>1634764847</td>\n",
       "    </tr>\n",
       "    <tr>\n",
       "      <th>1</th>\n",
       "      <td>nikolskoye</td>\n",
       "      <td>59.7035</td>\n",
       "      <td>30.7861</td>\n",
       "      <td>50.88</td>\n",
       "      <td>92</td>\n",
       "      <td>100</td>\n",
       "      <td>15.97</td>\n",
       "      <td>RU</td>\n",
       "      <td>1634764847</td>\n",
       "    </tr>\n",
       "    <tr>\n",
       "      <th>2</th>\n",
       "      <td>kapaa</td>\n",
       "      <td>22.0752</td>\n",
       "      <td>-159.3190</td>\n",
       "      <td>81.48</td>\n",
       "      <td>68</td>\n",
       "      <td>20</td>\n",
       "      <td>3.00</td>\n",
       "      <td>US</td>\n",
       "      <td>1634764848</td>\n",
       "    </tr>\n",
       "    <tr>\n",
       "      <th>3</th>\n",
       "      <td>mataura</td>\n",
       "      <td>-46.1927</td>\n",
       "      <td>168.8643</td>\n",
       "      <td>47.32</td>\n",
       "      <td>63</td>\n",
       "      <td>100</td>\n",
       "      <td>1.88</td>\n",
       "      <td>NZ</td>\n",
       "      <td>1634764848</td>\n",
       "    </tr>\n",
       "    <tr>\n",
       "      <th>4</th>\n",
       "      <td>busselton</td>\n",
       "      <td>-33.6500</td>\n",
       "      <td>115.3333</td>\n",
       "      <td>53.10</td>\n",
       "      <td>76</td>\n",
       "      <td>99</td>\n",
       "      <td>16.13</td>\n",
       "      <td>AU</td>\n",
       "      <td>1634764791</td>\n",
       "    </tr>\n",
       "    <tr>\n",
       "      <th>5</th>\n",
       "      <td>miranda</td>\n",
       "      <td>3.2499</td>\n",
       "      <td>-76.2281</td>\n",
       "      <td>77.13</td>\n",
       "      <td>75</td>\n",
       "      <td>89</td>\n",
       "      <td>2.19</td>\n",
       "      <td>CO</td>\n",
       "      <td>1634764848</td>\n",
       "    </tr>\n",
       "    <tr>\n",
       "      <th>6</th>\n",
       "      <td>sinnamary</td>\n",
       "      <td>5.3833</td>\n",
       "      <td>-52.9500</td>\n",
       "      <td>81.30</td>\n",
       "      <td>78</td>\n",
       "      <td>37</td>\n",
       "      <td>9.17</td>\n",
       "      <td>GF</td>\n",
       "      <td>1634764849</td>\n",
       "    </tr>\n",
       "    <tr>\n",
       "      <th>7</th>\n",
       "      <td>san julian</td>\n",
       "      <td>21.0167</td>\n",
       "      <td>-102.1667</td>\n",
       "      <td>79.20</td>\n",
       "      <td>37</td>\n",
       "      <td>1</td>\n",
       "      <td>2.82</td>\n",
       "      <td>MX</td>\n",
       "      <td>1634764849</td>\n",
       "    </tr>\n",
       "    <tr>\n",
       "      <th>8</th>\n",
       "      <td>vostok</td>\n",
       "      <td>46.4856</td>\n",
       "      <td>135.8833</td>\n",
       "      <td>14.50</td>\n",
       "      <td>84</td>\n",
       "      <td>6</td>\n",
       "      <td>3.69</td>\n",
       "      <td>RU</td>\n",
       "      <td>1634764849</td>\n",
       "    </tr>\n",
       "  </tbody>\n",
       "</table>\n",
       "</div>"
      ],
      "text/plain": [
       "          City      Lat       Lng  Max Temp  Humidity  Cloudiness  WindSpeed  \\\n",
       "0  east london -33.0153   27.9116     63.97        83          35      14.03   \n",
       "1   nikolskoye  59.7035   30.7861     50.88        92         100      15.97   \n",
       "2        kapaa  22.0752 -159.3190     81.48        68          20       3.00   \n",
       "3      mataura -46.1927  168.8643     47.32        63         100       1.88   \n",
       "4    busselton -33.6500  115.3333     53.10        76          99      16.13   \n",
       "5      miranda   3.2499  -76.2281     77.13        75          89       2.19   \n",
       "6    sinnamary   5.3833  -52.9500     81.30        78          37       9.17   \n",
       "7   san julian  21.0167 -102.1667     79.20        37           1       2.82   \n",
       "8       vostok  46.4856  135.8833     14.50        84           6       3.69   \n",
       "\n",
       "  Country        Date  \n",
       "0      ZA  1634764847  \n",
       "1      RU  1634764847  \n",
       "2      US  1634764848  \n",
       "3      NZ  1634764848  \n",
       "4      AU  1634764791  \n",
       "5      CO  1634764848  \n",
       "6      GF  1634764849  \n",
       "7      MX  1634764849  \n",
       "8      RU  1634764849  "
      ]
     },
     "execution_count": 186,
     "metadata": {},
     "output_type": "execute_result"
    }
   ],
   "source": [
    "\n",
    "new_weather_df=weather_df.copy()\n",
    "\n",
    "\n",
    "new_weather_df.drop(new_weather_df[(new_weather_df[\"Humidity\"] > 100)].index,inplace=True)\n",
    "new_weather_df"
   ]
  },
  {
   "cell_type": "code",
   "execution_count": 187,
   "metadata": {},
   "outputs": [
    {
     "data": {
      "text/plain": [
       "Int64Index([], dtype='int64')"
      ]
     },
     "execution_count": 187,
     "metadata": {},
     "output_type": "execute_result"
    }
   ],
   "source": [
    "#  Get the indices of cities that have humidity over 100%.\n",
    "#weather_df\n",
    "weather_df[(weather_df[\"Humidity\"] > 100)].index"
   ]
  },
  {
   "cell_type": "code",
   "execution_count": 188,
   "metadata": {},
   "outputs": [
    {
     "data": {
      "text/html": [
       "<div>\n",
       "<style scoped>\n",
       "    .dataframe tbody tr th:only-of-type {\n",
       "        vertical-align: middle;\n",
       "    }\n",
       "\n",
       "    .dataframe tbody tr th {\n",
       "        vertical-align: top;\n",
       "    }\n",
       "\n",
       "    .dataframe thead th {\n",
       "        text-align: right;\n",
       "    }\n",
       "</style>\n",
       "<table border=\"1\" class=\"dataframe\">\n",
       "  <thead>\n",
       "    <tr style=\"text-align: right;\">\n",
       "      <th></th>\n",
       "      <th>City</th>\n",
       "      <th>Lat</th>\n",
       "      <th>Lng</th>\n",
       "      <th>Max Temp</th>\n",
       "      <th>Humidity</th>\n",
       "      <th>Cloudiness</th>\n",
       "      <th>WindSpeed</th>\n",
       "      <th>Country</th>\n",
       "      <th>Date</th>\n",
       "    </tr>\n",
       "  </thead>\n",
       "  <tbody>\n",
       "    <tr>\n",
       "      <th>0</th>\n",
       "      <td>east london</td>\n",
       "      <td>-33.0153</td>\n",
       "      <td>27.9116</td>\n",
       "      <td>63.97</td>\n",
       "      <td>83</td>\n",
       "      <td>35</td>\n",
       "      <td>14.03</td>\n",
       "      <td>ZA</td>\n",
       "      <td>1634764847</td>\n",
       "    </tr>\n",
       "    <tr>\n",
       "      <th>1</th>\n",
       "      <td>nikolskoye</td>\n",
       "      <td>59.7035</td>\n",
       "      <td>30.7861</td>\n",
       "      <td>50.88</td>\n",
       "      <td>92</td>\n",
       "      <td>100</td>\n",
       "      <td>15.97</td>\n",
       "      <td>RU</td>\n",
       "      <td>1634764847</td>\n",
       "    </tr>\n",
       "    <tr>\n",
       "      <th>2</th>\n",
       "      <td>kapaa</td>\n",
       "      <td>22.0752</td>\n",
       "      <td>-159.3190</td>\n",
       "      <td>81.48</td>\n",
       "      <td>68</td>\n",
       "      <td>20</td>\n",
       "      <td>3.00</td>\n",
       "      <td>US</td>\n",
       "      <td>1634764848</td>\n",
       "    </tr>\n",
       "    <tr>\n",
       "      <th>3</th>\n",
       "      <td>mataura</td>\n",
       "      <td>-46.1927</td>\n",
       "      <td>168.8643</td>\n",
       "      <td>47.32</td>\n",
       "      <td>63</td>\n",
       "      <td>100</td>\n",
       "      <td>1.88</td>\n",
       "      <td>NZ</td>\n",
       "      <td>1634764848</td>\n",
       "    </tr>\n",
       "    <tr>\n",
       "      <th>4</th>\n",
       "      <td>busselton</td>\n",
       "      <td>-33.6500</td>\n",
       "      <td>115.3333</td>\n",
       "      <td>53.10</td>\n",
       "      <td>76</td>\n",
       "      <td>99</td>\n",
       "      <td>16.13</td>\n",
       "      <td>AU</td>\n",
       "      <td>1634764791</td>\n",
       "    </tr>\n",
       "    <tr>\n",
       "      <th>5</th>\n",
       "      <td>miranda</td>\n",
       "      <td>3.2499</td>\n",
       "      <td>-76.2281</td>\n",
       "      <td>77.13</td>\n",
       "      <td>75</td>\n",
       "      <td>89</td>\n",
       "      <td>2.19</td>\n",
       "      <td>CO</td>\n",
       "      <td>1634764848</td>\n",
       "    </tr>\n",
       "    <tr>\n",
       "      <th>6</th>\n",
       "      <td>sinnamary</td>\n",
       "      <td>5.3833</td>\n",
       "      <td>-52.9500</td>\n",
       "      <td>81.30</td>\n",
       "      <td>78</td>\n",
       "      <td>37</td>\n",
       "      <td>9.17</td>\n",
       "      <td>GF</td>\n",
       "      <td>1634764849</td>\n",
       "    </tr>\n",
       "    <tr>\n",
       "      <th>7</th>\n",
       "      <td>san julian</td>\n",
       "      <td>21.0167</td>\n",
       "      <td>-102.1667</td>\n",
       "      <td>79.20</td>\n",
       "      <td>37</td>\n",
       "      <td>1</td>\n",
       "      <td>2.82</td>\n",
       "      <td>MX</td>\n",
       "      <td>1634764849</td>\n",
       "    </tr>\n",
       "    <tr>\n",
       "      <th>8</th>\n",
       "      <td>vostok</td>\n",
       "      <td>46.4856</td>\n",
       "      <td>135.8833</td>\n",
       "      <td>14.50</td>\n",
       "      <td>84</td>\n",
       "      <td>6</td>\n",
       "      <td>3.69</td>\n",
       "      <td>RU</td>\n",
       "      <td>1634764849</td>\n",
       "    </tr>\n",
       "  </tbody>\n",
       "</table>\n",
       "</div>"
      ],
      "text/plain": [
       "          City      Lat       Lng  Max Temp  Humidity  Cloudiness  WindSpeed  \\\n",
       "0  east london -33.0153   27.9116     63.97        83          35      14.03   \n",
       "1   nikolskoye  59.7035   30.7861     50.88        92         100      15.97   \n",
       "2        kapaa  22.0752 -159.3190     81.48        68          20       3.00   \n",
       "3      mataura -46.1927  168.8643     47.32        63         100       1.88   \n",
       "4    busselton -33.6500  115.3333     53.10        76          99      16.13   \n",
       "5      miranda   3.2499  -76.2281     77.13        75          89       2.19   \n",
       "6    sinnamary   5.3833  -52.9500     81.30        78          37       9.17   \n",
       "7   san julian  21.0167 -102.1667     79.20        37           1       2.82   \n",
       "8       vostok  46.4856  135.8833     14.50        84           6       3.69   \n",
       "\n",
       "  Country        Date  \n",
       "0      ZA  1634764847  \n",
       "1      RU  1634764847  \n",
       "2      US  1634764848  \n",
       "3      NZ  1634764848  \n",
       "4      AU  1634764791  \n",
       "5      CO  1634764848  \n",
       "6      GF  1634764849  \n",
       "7      MX  1634764849  \n",
       "8      RU  1634764849  "
      ]
     },
     "execution_count": 188,
     "metadata": {},
     "output_type": "execute_result"
    }
   ],
   "source": [
    "# Make a new DataFrame equal to the city data to drop all humidity outliers by index.\n",
    "# Passing \"inplace=False\" will make a copy of the city_data DataFrame, which we call \"clean_city_data\".\n",
    "Weather_DF2=weather_df.copy()\n",
    "\n",
    "clean_city_data= weather_df.drop(weather_df[(weather_df[\"Humidity\"] > 100)].index,inplace=False)\n",
    "clean_city_data"
   ]
  },
  {
   "cell_type": "code",
   "execution_count": null,
   "metadata": {},
   "outputs": [],
   "source": [
    "\n"
   ]
  },
  {
   "cell_type": "markdown",
   "metadata": {},
   "source": [
    "## Plotting the Data\n",
    "* Use proper labeling of the plots using plot titles (including date of analysis) and axes labels.\n",
    "* Save the plotted figures as .pngs."
   ]
  },
  {
   "cell_type": "markdown",
   "metadata": {},
   "source": [
    "## Latitude vs. Temperature Plot"
   ]
  },
  {
   "cell_type": "code",
   "execution_count": 189,
   "metadata": {
    "scrolled": true
   },
   "outputs": [
    {
     "data": {
      "image/png": "[encoded data removed]",
      "text/plain": [
       "<Figure size 432x288 with 1 Axes>"
      ]
     },
     "metadata": {
      "needs_background": "light"
     },
     "output_type": "display_data"
    }
   ],
   "source": [
    "# Build a scatter plot for each data type\n",
    "plt.scatter(clean_city_data[\"Lat\"], clean_city_data[\"Max Temp\"], marker=\"o\", facecolors=\"skyblue\")\n",
    "\n",
    "# Incorporate the other graph properties\n",
    "tgmtime=time.gmtime(clean_city_data[\"Date\"][0])\n",
    "datecnv=time.strftime(\"%x\",tgmtime)\n",
    "plt.title(f\"City Latitude vs. Max Temperature  {datecnv}\")\n",
    "plt.ylabel(\"Max Temperature(Farenheit)\")\n",
    "plt.xlabel(\"Latitude\")\n",
    "plt.grid(True)\n",
    "\n",
    "# Save the figure\n",
    "plt.savefig(\"TemperatureInCities.png\")\n",
    "\n",
    "# Show plot\n",
    "plt.show()"
   ]
  },
  {
   "cell_type": "markdown",
   "metadata": {},
   "source": [
    "## Latitude vs. Humidity Plot"
   ]
  },
  {
   "cell_type": "code",
   "execution_count": 190,
   "metadata": {},
   "outputs": [
    {
     "data": {
      "image/png": "[encoded data removed]",
      "text/plain": [
       "<Figure size 432x288 with 1 Axes>"
      ]
     },
     "metadata": {
      "needs_background": "light"
     },
     "output_type": "display_data"
    }
   ],
   "source": [
    "# Build a scatter plot for each data type\n",
    "plt.scatter(clean_city_data[\"Lat\"], clean_city_data[\"Humidity\"], marker=\"o\", facecolors=\"skyblue\")\n",
    "\n",
    "# Incorporate the other graph properties\n",
    "tgmtime=time.gmtime(clean_city_data[\"Date\"][0])\n",
    "datecnv=time.strftime(\"%x\",tgmtime)\n",
    "plt.title(f\"City Latitude vs. Humidity {datecnv}\")\n",
    "plt.ylabel(\"Humidity\")\n",
    "plt.xlabel(\"Latitude\")\n",
    "plt.grid(True)\n",
    "\n",
    "# Save the figure\n",
    "plt.savefig(\"HumidityInCities.png\")\n",
    "\n",
    "# Show plot\n",
    "plt.show()"
   ]
  },
  {
   "cell_type": "markdown",
   "metadata": {},
   "source": [
    "## Latitude vs. Cloudiness Plot"
   ]
  },
  {
   "cell_type": "code",
   "execution_count": 191,
   "metadata": {},
   "outputs": [
    {
     "data": {
      "image/png": "[encoded data removed]",
      "text/plain": [
       "<Figure size 432x288 with 1 Axes>"
      ]
     },
     "metadata": {
      "needs_background": "light"
     },
     "output_type": "display_data"
    }
   ],
   "source": [
    "# Build a scatter plot for each data type\n",
    "plt.scatter(clean_city_data[\"Lat\"], clean_city_data[\"Cloudiness\"], marker=\"o\", facecolors=\"skyblue\")\n",
    "\n",
    "# Incorporate the other graph properties\n",
    "tgmtime=time.gmtime(clean_city_data[\"Date\"][0])\n",
    "datecnv=time.strftime(\"%x\",tgmtime)\n",
    "plt.title(f\"City Latitude vs. Cloudiness {datecnv}\")\n",
    "plt.ylabel(\"Cloudiness\")\n",
    "plt.xlabel(\"Latitude\")\n",
    "plt.grid(True)\n",
    "\n",
    "# Save the figure\n",
    "plt.savefig(\"CloudinessInCities.png\")\n",
    "\n",
    "# Show plot\n",
    "plt.show()"
   ]
  },
  {
   "cell_type": "markdown",
   "metadata": {},
   "source": [
    "## Latitude vs. Wind Speed Plot"
   ]
  },
  {
   "cell_type": "code",
   "execution_count": 192,
   "metadata": {},
   "outputs": [
    {
     "data": {
      "image/png": "[encoded data removed]",
      "text/plain": [
       "<Figure size 432x288 with 1 Axes>"
      ]
     },
     "metadata": {
      "needs_background": "light"
     },
     "output_type": "display_data"
    }
   ],
   "source": [
    "# Build a scatter plot for each data type\n",
    "plt.scatter(clean_city_data[\"Lat\"], clean_city_data[\"WindSpeed\"], marker=\"o\", facecolors=\"skyblue\")\n",
    "\n",
    "# Incorporate the other graph properties\n",
    "tgmtime=time.gmtime(clean_city_data[\"Date\"][0])\n",
    "datecnv=time.strftime(\"%x\",tgmtime)\n",
    "plt.title(f\"City Latitude vs. Wind speed {datecnv}\")\n",
    "plt.ylabel(\"Wind Speed\")\n",
    "plt.xlabel(\"Latitude\")\n",
    "plt.grid(True)\n",
    "\n",
    "# Save the figure\n",
    "plt.savefig(\"WindSpeedInCities.png\")\n",
    "\n",
    "# Show plot\n",
    "plt.show()"
   ]
  },
  {
   "cell_type": "markdown",
   "metadata": {},
   "source": [
    "## Linear Regression"
   ]
  },
  {
   "cell_type": "code",
   "execution_count": null,
   "metadata": {},
   "outputs": [],
   "source": []
  },
  {
   "cell_type": "markdown",
   "metadata": {},
   "source": [
    "####  Northern Hemisphere - Max Temp vs. Latitude Linear Regression"
   ]
  },
  {
   "cell_type": "code",
   "execution_count": 193,
   "metadata": {},
   "outputs": [
    {
     "data": {
      "image/png": "[encoded data removed]",
      "text/plain": [
       "<Figure size 432x288 with 1 Axes>"
      ]
     },
     "metadata": {
      "needs_background": "light"
     },
     "output_type": "display_data"
    }
   ],
   "source": [
    "#>=0 latitide\n",
    "northernh=clean_city_data.loc[clean_city_data[\"Lat\"] >= 0.0]\n",
    "southernh=clean_city_data.loc[clean_city_data[\"Lat\"] < 0.0]\n",
    "# Generate a scatter plot of year versus violent crime rate\n",
    "#year = crime_data.iloc[:,0]\n",
    "Latcol = northernh.iloc[:,1]\n",
    "\n",
    "# violent_crime_rate = crime_data.iloc[:,3]\n",
    "MaxTempcol = northernh.iloc[:,3]\n",
    "\n",
    "#plt.scatter(year,violent_crime_rate)\n",
    "plt.scatter(Latcol,MaxTempcol)\n",
    "plt.xticks(Latcol, rotation=90)\n",
    "plt.xlabel('Latitude')\n",
    "plt.ylabel('Max Temp')\n",
    "plt.show()\n",
    "\n"
   ]
  },
  {
   "cell_type": "code",
   "execution_count": 201,
   "metadata": {},
   "outputs": [
    {
     "name": "stdout",
     "output_type": "stream",
     "text": [
      "The r squared value : 0.7926928786501963\n",
      "The r squared value : 0.7926928786501963\n",
      "y= 0.9x + 88.72\n"
     ]
    },
    {
     "data": {
      "image/png": "[encoded data removed]",
      "text/plain": [
       "<Figure size 432x288 with 1 Axes>"
      ]
     },
     "metadata": {
      "needs_background": "light"
     },
     "output_type": "display_data"
    }
   ],
   "source": [
    "# # Perform a linear regression on Max Temp versus Latitude\n",
    "# vc_slope, vc_int, vc_r, vc_p, vc_std_err = stats.linregress(year, violent_crime_rate)\n",
    "\n",
    "vc_slope, vc_int, vc_r, vc_p, vc_std_err = stats.linregress(Latcol, MaxTempcol)\n",
    "\n",
    "# # Create equation of line to calculate predicted violent crime rate\n",
    "vc_fit = vc_slope * Latcol + vc_int\n",
    "print(f\"The r squared value : {vc_r}\")\n",
    "lineeq=\"y= \"+ str(round(vc_slope,2)) + \"x + \" + str(round(vc_int,2))\n",
    "print(lineeq)\n",
    "plt.scatter(Latcol,MaxTempcol)\n",
    "plt.xticks(Latcol, rotation=90)\n",
    "plt.xlabel('Latitude')\n",
    "plt.ylabel('Max Temp')\n",
    "\n",
    "plt.plot(Latcol,vc_fit,\"--\")\n",
    "plt.show()"
   ]
  },
  {
   "cell_type": "markdown",
   "metadata": {},
   "source": [
    "####  Southern Hemisphere - Max Temp vs. Latitude Linear Regression"
   ]
  },
  {
   "cell_type": "code",
   "execution_count": 203,
   "metadata": {},
   "outputs": [
    {
     "name": "stdout",
     "output_type": "stream",
     "text": [
      "The r squared value : 0.7926928786501963\n",
      "y= 0.9x + 88.72\n"
     ]
    },
    {
     "data": {
      "image/png": "[encoded data removed]",
      "text/plain": [
       "<Figure size 432x288 with 1 Axes>"
      ]
     },
     "metadata": {
      "needs_background": "light"
     },
     "output_type": "display_data"
    }
   ],
   "source": [
    "#>=0 latitide\n",
    "northernh=clean_city_data.loc[clean_city_data[\"Lat\"] >= 0.0]\n",
    "southernh=clean_city_data.loc[clean_city_data[\"Lat\"] < 0.0]\n",
    "# Generate a scatter plot of year versus violent crime rate\n",
    "#year = crime_data.iloc[:,0]\n",
    "#Latcol = northernh.iloc[:,1]\n",
    "Latcol = southernh.iloc[:,1]\n",
    "# violent_crime_rate = crime_data.iloc[:,3]\n",
    "#MaxTempcol = northernh.iloc[:,3]\n",
    "MaxTempcol = southernh.iloc[:,3]\n",
    "#plt.scatter(year,violent_crime_rate)\n",
    "\n",
    "# # Perform a linear regression on Max Temp versus Latitude\n",
    "# vc_slope, vc_int, vc_r, vc_p, vc_std_err = stats.linregress(year, violent_crime_rate)\n",
    "\n",
    "vc_slope, vc_int, vc_r, vc_p, vc_std_err = stats.linregress(Latcol, MaxTempcol)\n",
    "# # Create equation of line to calculate predicted violent crime rate\n",
    "vc_fit = vc_slope * Latcol + vc_int\n",
    "print(f\"The r squared value : {vc_r}\")\n",
    "lineeq=\"y= \"+ str(round(vc_slope,2)) + \"x + \" + str(round(vc_int,2))\n",
    "print(lineeq)\n",
    "\n",
    "plt.scatter(Latcol,MaxTempcol)\n",
    "plt.xticks(Latcol, rotation=90)\n",
    "plt.xlabel('Latitude')\n",
    "plt.ylabel('Max Temp')\n",
    "\n",
    "plt.plot(Latcol,vc_fit,\"--\")\n",
    "plt.show()\n"
   ]
  },
  {
   "cell_type": "code",
   "execution_count": null,
   "metadata": {},
   "outputs": [],
   "source": [
    "\n"
   ]
  },
  {
   "cell_type": "markdown",
   "metadata": {},
   "source": [
    "####  Northern Hemisphere - Humidity (%) vs. Latitude Linear Regression"
   ]
  },
  {
   "cell_type": "code",
   "execution_count": 204,
   "metadata": {},
   "outputs": [
    {
     "name": "stdout",
     "output_type": "stream",
     "text": [
      "The r squared value : 0.42578689304579914\n",
      "y= 0.36x + 62.82\n"
     ]
    },
    {
     "data": {
      "image/png": "[encoded data removed]",
      "text/plain": [
       "<Figure size 432x288 with 1 Axes>"
      ]
     },
     "metadata": {
      "needs_background": "light"
     },
     "output_type": "display_data"
    }
   ],
   "source": [
    "\n",
    "northernh=clean_city_data.loc[clean_city_data[\"Lat\"] >= 0.0]\n",
    "southernh=clean_city_data.loc[clean_city_data[\"Lat\"] < 0.0]\n",
    "\n",
    "Latcol = northernh.iloc[:,1]\n",
    "\n",
    "Humidcol = northernh.iloc[:,4]\n",
    "#plt.scatter(year,violent_crime_rate)\n",
    "\n",
    "# # Perform a linear regression on Max Temp versus Latitude\n",
    "\n",
    "\n",
    "vc_slope, vc_int, vc_r, vc_p, vc_std_err = stats.linregress(Latcol, Humidcol)\n",
    "# # Create equation of line to calculate predicted violent crime rate\n",
    "vc_fit = vc_slope * Latcol + vc_int\n",
    "print(f\"The r squared value : {vc_r}\")\n",
    "lineeq=\"y= \"+ str(round(vc_slope,2)) + \"x + \" + str(round(vc_int,2))\n",
    "print(lineeq)\n",
    "\n",
    "plt.scatter(Latcol,Humidcol)\n",
    "plt.xticks(Latcol, rotation=90)\n",
    "plt.xlabel('Humidity')\n",
    "plt.ylabel('Max Temp')\n",
    "\n",
    "plt.plot(Latcol,vc_fit,\"--\")\n",
    "plt.show()\n"
   ]
  },
  {
   "cell_type": "markdown",
   "metadata": {},
   "source": [
    "####  Southern Hemisphere - Humidity (%) vs. Latitude Linear Regression"
   ]
  },
  {
   "cell_type": "code",
   "execution_count": 205,
   "metadata": {},
   "outputs": [
    {
     "name": "stdout",
     "output_type": "stream",
     "text": [
      "The r squared value : 0.9525228091340951\n",
      "y= 1.3x + 122.94\n"
     ]
    },
    {
     "data": {
      "image/png": "[encoded data removed]",
      "text/plain": [
       "<Figure size 432x288 with 1 Axes>"
      ]
     },
     "metadata": {
      "needs_background": "light"
     },
     "output_type": "display_data"
    }
   ],
   "source": [
    "northernh=clean_city_data.loc[clean_city_data[\"Lat\"] >= 0.0]\n",
    "southernh=clean_city_data.loc[clean_city_data[\"Lat\"] < 0.0]\n",
    "# Generate a scatter plot of year versus violent crime rate\n",
    "\n",
    "Latcol = southernh.iloc[:,1]\n",
    "\n",
    "Humidcol = southernh.iloc[:,4]\n",
    "#plt.scatter(year,violent_crime_rate)\n",
    "\n",
    "# # Perform a linear regression on Max Temp versus Latitude\n",
    "\n",
    "vc_slope, vc_int, vc_r, vc_p, vc_std_err = stats.linregress(Latcol, Humidcol)\n",
    "# # Create equation of line to calculate predicted violent crime rate\n",
    "vc_fit = vc_slope * Latcol + vc_int\n",
    "print(f\"The r squared value : {vc_r}\")\n",
    "lineeq=\"y= \"+ str(round(vc_slope,2)) + \"x + \" + str(round(vc_int,2))\n",
    "print(lineeq)\n",
    "\n",
    "plt.scatter(Latcol,Humidcol)\n",
    "plt.xticks(Latcol, rotation=90)\n",
    "plt.xlabel('Latitude')\n",
    "plt.ylabel('Max Temp')\n",
    "\n",
    "plt.plot(Latcol,vc_fit,\"--\")\n",
    "plt.show()"
   ]
  },
  {
   "cell_type": "markdown",
   "metadata": {},
   "source": [
    "####  Northern Hemisphere - Cloudiness (%) vs. Latitude Linear Regression"
   ]
  },
  {
   "cell_type": "code",
   "execution_count": 206,
   "metadata": {},
   "outputs": [
    {
     "name": "stdout",
     "output_type": "stream",
     "text": [
      "The r squared value : 0.11293404776700548\n",
      "y= 0.21x + 36.55\n"
     ]
    },
    {
     "data": {
      "image/png": "[encoded data removed]",
      "text/plain": [
       "<Figure size 432x288 with 1 Axes>"
      ]
     },
     "metadata": {
      "needs_background": "light"
     },
     "output_type": "display_data"
    }
   ],
   "source": [
    "northernh=clean_city_data.loc[clean_city_data[\"Lat\"] >= 0.0]\n",
    "southernh=clean_city_data.loc[clean_city_data[\"Lat\"] < 0.0]\n",
    "# Generate a scatter plot of year versus violent crime rate\n",
    "\n",
    "Latcol = northernh.iloc[:,1]\n",
    "\n",
    "Cloudcol = northernh.iloc[:,5]\n",
    "#plt.scatter(year,violent_crime_rate)\n",
    "\n",
    "# # Perform a linear regression on Max Temp versus Latitude\n",
    "\n",
    "vc_slope, vc_int, vc_r, vc_p, vc_std_err = stats.linregress(Latcol, Cloudcol)\n",
    "# # Create equation of line to calculate predicted violent crime rate\n",
    "vc_fit = vc_slope * Latcol + vc_int\n",
    "print(f\"The r squared value : {vc_r}\")\n",
    "lineeq=\"y= \"+ str(round(vc_slope,2)) + \"x + \" + str(round(vc_int,2))\n",
    "print(lineeq)\n",
    "\n",
    "plt.scatter(Latcol,Cloudcol)\n",
    "plt.xticks(Latcol, rotation=90)\n",
    "plt.xlabel('Latitude')\n",
    "plt.ylabel('Cloudiness')\n",
    "\n",
    "plt.plot(Latcol,vc_fit,\"--\")\n",
    "plt.show()"
   ]
  },
  {
   "cell_type": "markdown",
   "metadata": {},
   "source": [
    "####  Southern Hemisphere - Cloudiness (%) vs. Latitude Linear Regression"
   ]
  },
  {
   "cell_type": "code",
   "execution_count": 207,
   "metadata": {},
   "outputs": [
    {
     "name": "stdout",
     "output_type": "stream",
     "text": [
      "The r squared value : -0.5478071742294909\n",
      "y= -2.75x + -25.28\n"
     ]
    },
    {
     "data": {
      "image/png": "[encoded data removed]",
      "text/plain": [
       "<Figure size 432x288 with 1 Axes>"
      ]
     },
     "metadata": {
      "needs_background": "light"
     },
     "output_type": "display_data"
    }
   ],
   "source": [
    "northernh=clean_city_data.loc[clean_city_data[\"Lat\"] >= 0.0]\n",
    "southernh=clean_city_data.loc[clean_city_data[\"Lat\"] < 0.0]\n",
    "# Generate a scatter plot of year versus violent crime rate\n",
    "\n",
    "Latcol = southernh.iloc[:,1]\n",
    "# violent_crime_rate = crime_data.iloc[:,3]\n",
    "#MaxTempcol = northernh.iloc[:,3]\n",
    "Cloudcol = southernh.iloc[:,5]\n",
    "#plt.scatter(year,violent_crime_rate)\n",
    "\n",
    "# # Perform a linear regression on Max Temp versus Latitude\n",
    "\n",
    "vc_slope, vc_int, vc_r, vc_p, vc_std_err = stats.linregress(Latcol, Cloudcol)\n",
    "# # Create equation of line to calculate predicted violent crime rate\n",
    "vc_fit = vc_slope * Latcol + vc_int\n",
    "print(f\"The r squared value : {vc_r}\")\n",
    "lineeq=\"y= \"+ str(round(vc_slope,2)) + \"x + \" + str(round(vc_int,2))\n",
    "print(lineeq)\n",
    "\n",
    "plt.scatter(Latcol,Cloudcol)\n",
    "plt.xticks(Latcol, rotation=90)\n",
    "plt.xlabel('Latitude')\n",
    "plt.ylabel('Cloudiness')\n",
    "\n",
    "plt.plot(Latcol,vc_fit,\"--\")\n",
    "plt.show()"
   ]
  },
  {
   "cell_type": "markdown",
   "metadata": {},
   "source": [
    "####  Northern Hemisphere - Wind Speed (mph) vs. Latitude Linear Regression"
   ]
  },
  {
   "cell_type": "code",
   "execution_count": 208,
   "metadata": {},
   "outputs": [
    {
     "name": "stdout",
     "output_type": "stream",
     "text": [
      "The r squared value : 0.549946350374422\n",
      "y= 0.13x + 2.64\n"
     ]
    },
    {
     "data": {
      "image/png": "[encoded data removed]",
      "text/plain": [
       "<Figure size 432x288 with 1 Axes>"
      ]
     },
     "metadata": {
      "needs_background": "light"
     },
     "output_type": "display_data"
    }
   ],
   "source": [
    "northernh=clean_city_data.loc[clean_city_data[\"Lat\"] >= 0.0]\n",
    "southernh=clean_city_data.loc[clean_city_data[\"Lat\"] < 0.0]\n",
    "# Generate a scatter plot of year versus violent crime rate\n",
    "\n",
    "Latcol = northernh.iloc[:,1]\n",
    "# violent_crime_rate = crime_data.iloc[:,3]\n",
    "#MaxTempcol = northernh.iloc[:,3]\n",
    "Windcol = northernh.iloc[:,6]\n",
    "#plt.scatter(year,violent_crime_rate)\n",
    "\n",
    "# # Perform a linear regression on Max Temp versus Latitude\n",
    "\n",
    "vc_slope, vc_int, vc_r, vc_p, vc_std_err = stats.linregress(Latcol, Windcol)\n",
    "# # Create equation of line to calculate predicted violent crime rate\n",
    "vc_fit = vc_slope * Latcol + vc_int\n",
    "print(f\"The r squared value : {vc_r}\")\n",
    "lineeq=\"y= \"+ str(round(vc_slope,2)) + \"x + \" + str(round(vc_int,2))\n",
    "print(lineeq)\n",
    "\n",
    "plt.scatter(Latcol,Windcol)\n",
    "plt.xticks(Latcol, rotation=90)\n",
    "plt.xlabel('Latitude')\n",
    "plt.ylabel('WindSpeed')\n",
    "\n",
    "plt.plot(Latcol,vc_fit,\"--\")\n",
    "plt.show()"
   ]
  },
  {
   "cell_type": "markdown",
   "metadata": {},
   "source": [
    "####  Southern Hemisphere - Wind Speed (mph) vs. Latitude Linear Regression"
   ]
  },
  {
   "cell_type": "code",
   "execution_count": 209,
   "metadata": {},
   "outputs": [
    {
     "name": "stdout",
     "output_type": "stream",
     "text": [
      "The r squared value : 0.983909697310283\n",
      "y= 1.02x + 49.0\n"
     ]
    },
    {
     "data": {
      "image/png": "[encoded data removed]",
      "text/plain": [
       "<Figure size 432x288 with 1 Axes>"
      ]
     },
     "metadata": {
      "needs_background": "light"
     },
     "output_type": "display_data"
    }
   ],
   "source": [
    "northernh=clean_city_data.loc[clean_city_data[\"Lat\"] >= 0.0]\n",
    "southernh=clean_city_data.loc[clean_city_data[\"Lat\"] < 0.0]\n",
    "# Generate a scatter plot of year versus violent crime rate\n",
    "\n",
    "Latcol = southernh.iloc[:,1]\n",
    "# violent_crime_rate = crime_data.iloc[:,3]\n",
    "#MaxTempcol = northernh.iloc[:,3]\n",
    "Windcol = southernh.iloc[:,6]\n",
    "#plt.scatter(year,violent_crime_rate)\n",
    "\n",
    "# # Perform a linear regression on Max Temp versus Latitude\n",
    "\n",
    "vc_slope, vc_int, vc_r, vc_p, vc_std_err = stats.linregress(Latcol, Windcol)\n",
    "# # Create equation of line to calculate predicted violent crime rate\n",
    "vc_fit = vc_slope * Latcol + vc_int\n",
    "print(f\"The r squared value : {vc_r}\")\n",
    "lineeq=\"y= \"+ str(round(vc_slope,2)) + \"x + \" + str(round(vc_int,2))\n",
    "print(lineeq)\n",
    "\n",
    "plt.scatter(Latcol,Windcol)\n",
    "plt.xticks(Latcol, rotation=90)\n",
    "plt.xlabel('Latitude')\n",
    "plt.ylabel('WindSpeed')\n",
    "\n",
    "plt.plot(Latcol,vc_fit,\"--\")\n",
    "plt.show()"
   ]
  },
  {
   "cell_type": "code",
   "execution_count": null,
   "metadata": {},
   "outputs": [],
   "source": []
  },
  {
   "cell_type": "markdown",
   "metadata": {},
   "source": [
    "Observations:\n",
    "Temperature has correlation with the Latitude. As going away from the equator, the temerature decreases.\n",
    "\n",
    "As moving close to the equator, cloudiness decreases.\n",
    "\n",
    "Not seeing much correlation between Wind Speed and Latitude."
   ]
  }
 ],
 "metadata": {
  "anaconda-cloud": {},
  "kernel_info": {
   "name": "python3"
  },
  "kernelspec": {
   "display_name": "Python 3",
   "language": "python",
   "name": "python3"
  },
  "language_info": {
   "codemirror_mode": {
    "name": "ipython",
    "version": 3
   },
   "file_extension": ".py",
   "mimetype": "text/x-python",
   "name": "python",
   "nbconvert_exporter": "python",
   "pygments_lexer": "ipython3",
   "version": "3.8.8"
  },
  "latex_envs": {
   "LaTeX_envs_menu_present": true,
   "autoclose": false,
   "autocomplete": true,
   "bibliofile": "biblio.bib",
   "cite_by": "apalike",
   "current_citInitial": 1,
   "eqLabelWithNumbers": true,
   "eqNumInitial": 1,
   "hotkeys": {
    "equation": "Ctrl-E",
    "itemize": "Ctrl-I"
   },
   "labels_anchors": false,
   "latex_user_defs": false,
   "report_style_numbering": false,
   "user_envs_cfg": false
  },
  "nteract": {
   "version": "0.12.3"
  }
 },
 "nbformat": 4,
 "nbformat_minor": 2
}
